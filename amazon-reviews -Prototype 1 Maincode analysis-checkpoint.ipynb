{
 "cells": [
  {
   "cell_type": "markdown",
   "metadata": {
    "papermill": {
     "duration": 0.051747,
     "end_time": "2021-03-26T05:39:21.829565",
     "exception": false,
     "start_time": "2021-03-26T05:39:21.777818",
     "status": "completed"
    },
    "tags": []
   },
   "source": [
    "# Introduction"
   ]
  },
  {
   "cell_type": "markdown",
   "metadata": {
    "papermill": {
     "duration": 0.055525,
     "end_time": "2021-03-26T05:39:21.930505",
     "exception": false,
     "start_time": "2021-03-26T05:39:21.874980",
     "status": "completed"
    },
    "tags": []
   },
   "source": [
    "This project was done as our fifth semster mini project under the mentorship of Prof. Mahendra Patil.\n",
    "In this project , we learned about various advance machine learning concepts like text classification,sentiment analysis,information retrieval,text summarization,next word prediction,languge translation and detection,etc.\n",
    "\n",
    "Based on these concepts and using data given [here](http://jmcauley.ucsd.edu/data/amazon/), we have created a project.\n",
    "\n",
    "I would like to thank [Prof. Mahendra Patil](https://www.linkedin.com/in/mahendra-patil-66b725129/) and my partners [Nachiketa Patil](https://www.linkedin.com/in/nachiketa-p-552525110/) and Sayyam Jain for helping me with this project.\n"
   ]
  },
  {
   "cell_type": "markdown",
   "metadata": {
    "papermill": {
     "duration": 0.059844,
     "end_time": "2021-03-26T05:39:22.045947",
     "exception": false,
     "start_time": "2021-03-26T05:39:21.986103",
     "status": "completed"
    },
    "tags": []
   },
   "source": [
    "Based on data we thought of two problem statements:\n",
    "\n",
    "> Problem Statement 1: Prediction of Helpfulness from given data.\n",
    "\n",
    "> Problem Statement 2: Classification of genuine and fake/sarcastic reviews."
   ]
  },
  {
   "cell_type": "markdown",
   "metadata": {
    "papermill": {
     "duration": 0.045698,
     "end_time": "2021-03-26T05:39:22.148281",
     "exception": false,
     "start_time": "2021-03-26T05:39:22.102583",
     "status": "completed"
    },
    "tags": []
   },
   "source": [
    "Data Preparation\n",
    "--"
   ]
  },
  {
   "cell_type": "markdown",
   "metadata": {
    "papermill": {
     "duration": 0.047418,
     "end_time": "2021-03-26T05:39:22.241674",
     "exception": false,
     "start_time": "2021-03-26T05:39:22.194256",
     "status": "completed"
    },
    "tags": []
   },
   "source": [
    "Before we start with the problem statements, we have to do a little data preparation.\n",
    "\n",
    "First, let's import all required files."
   ]
  },
  {
   "cell_type": "code",
   "execution_count": 3,
   "metadata": {
    "_cell_guid": "b1076dfc-b9ad-4769-8c92-a6c4dae69d19",
    "_uuid": "8f2839f25d086af736a60e9eeb907d3b93b6e0e5",
    "execution": {
     "iopub.execute_input": "2021-03-26T05:39:22.349873Z",
     "iopub.status.busy": "2021-03-26T05:39:22.349062Z",
     "iopub.status.idle": "2021-03-26T05:39:24.987294Z",
     "shell.execute_reply": "2021-03-26T05:39:24.985828Z"
    },
    "papermill": {
     "duration": 2.694177,
     "end_time": "2021-03-26T05:39:24.987635",
     "exception": false,
     "start_time": "2021-03-26T05:39:22.293458",
     "status": "completed"
    },
    "tags": []
   },
   "outputs": [],
   "source": [
    "# Importing the required files.\n",
    "from __future__ import print_function\n",
    "import matplotlib.pyplot as plt\n",
    "import numpy as np\n",
    "import os\n",
    "import sys\n",
    "import pandas as pd\n",
    "import string\n",
    "from time import time\n",
    "import nltk\n",
    "from nltk.corpus import stopwords \n",
    "stops = set(stopwords.words(\"english\"))\n",
    "import re\n",
    "from IPython.display import display # Allows the use of display() for DataFrames\n",
    "import warnings\n",
    "warnings.filterwarnings('ignore')\n",
    "\n",
    "%matplotlib inline\n",
    "RAN_STATE = 42 # Setting the random state"
   ]
  },
  {
   "cell_type": "markdown",
   "metadata": {
    "papermill": {
     "duration": 0.048078,
     "end_time": "2021-03-26T05:39:25.316449",
     "exception": false,
     "start_time": "2021-03-26T05:39:25.268371",
     "status": "completed"
    },
    "tags": []
   },
   "source": [
    "We will now read the data.\n",
    "\n",
    "The dataset is a JSON file so we are using the read_json() function of Pandas. We have used *lines=True*  to read the file as a JSON object per line, else it will give an error.\n",
    "\n",
    "For more information,see [here](https://pandas.pydata.org/pandas-docs/stable/reference/api/pandas.read_json.html)"
   ]
  },
  {
   "cell_type": "markdown",
   "metadata": {},
   "source": [
    "Content of dataset -\n",
    "* 5-core dataset of product reviews from Amazon Electronics category from May 1996 - July 2014. \n",
    "* Contains total of 1689188 entries. \n",
    "* Each reviewer has at least 5 reviews and each product has at least 5 reviews in this dataset.\n",
    "\n",
    "Columns are:\n",
    "* asin - ID of the product, like B000FA64PK\n",
    "* helpful - helpfulness rating of the review - example: 2/3.\n",
    "* overall - rating of the product.\n",
    "* reviewText - text of the review (heading).\n",
    "* reviewTime - time of the review (raw).\n",
    "* reviewerID - ID of the reviewer, like A3SPTOKDG7WBLN\n",
    "* reviewerName - name of the reviewer.\n",
    "* summary - summary of the review (description).\n",
    "* unixReviewTime - unix timestamp."
   ]
  },
  {
   "cell_type": "code",
   "execution_count": 4,
   "metadata": {
    "execution": {
     "iopub.execute_input": "2021-03-26T05:39:25.417838Z",
     "iopub.status.busy": "2021-03-26T05:39:25.417034Z",
     "iopub.status.idle": "2021-03-26T05:40:21.858977Z",
     "shell.execute_reply": "2021-03-26T05:40:21.859533Z"
    },
    "papermill": {
     "duration": 56.496351,
     "end_time": "2021-03-26T05:40:21.859730",
     "exception": false,
     "start_time": "2021-03-26T05:39:25.363379",
     "status": "completed"
    },
    "tags": []
   },
   "outputs": [
    {
     "data": {
      "text/html": [
       "<div>\n",
       "<style scoped>\n",
       "    .dataframe tbody tr th:only-of-type {\n",
       "        vertical-align: middle;\n",
       "    }\n",
       "\n",
       "    .dataframe tbody tr th {\n",
       "        vertical-align: top;\n",
       "    }\n",
       "\n",
       "    .dataframe thead th {\n",
       "        text-align: right;\n",
       "    }\n",
       "</style>\n",
       "<table border=\"1\" class=\"dataframe\">\n",
       "  <thead>\n",
       "    <tr style=\"text-align: right;\">\n",
       "      <th></th>\n",
       "      <th>reviewerID</th>\n",
       "      <th>asin</th>\n",
       "      <th>reviewerName</th>\n",
       "      <th>helpful</th>\n",
       "      <th>reviewText</th>\n",
       "      <th>overall</th>\n",
       "      <th>summary</th>\n",
       "      <th>unixReviewTime</th>\n",
       "      <th>reviewTime</th>\n",
       "    </tr>\n",
       "  </thead>\n",
       "  <tbody>\n",
       "    <tr>\n",
       "      <th>0</th>\n",
       "      <td>AO94DHGC771SJ</td>\n",
       "      <td>0528881469</td>\n",
       "      <td>amazdnu</td>\n",
       "      <td>[0, 0]</td>\n",
       "      <td>We got this GPS for my husband who is an (OTR)...</td>\n",
       "      <td>5</td>\n",
       "      <td>Gotta have GPS!</td>\n",
       "      <td>1370131200</td>\n",
       "      <td>06 2, 2013</td>\n",
       "    </tr>\n",
       "    <tr>\n",
       "      <th>1</th>\n",
       "      <td>AMO214LNFCEI4</td>\n",
       "      <td>0528881469</td>\n",
       "      <td>Amazon Customer</td>\n",
       "      <td>[12, 15]</td>\n",
       "      <td>I'm a professional OTR truck driver, and I bou...</td>\n",
       "      <td>1</td>\n",
       "      <td>Very Disappointed</td>\n",
       "      <td>1290643200</td>\n",
       "      <td>11 25, 2010</td>\n",
       "    </tr>\n",
       "    <tr>\n",
       "      <th>2</th>\n",
       "      <td>A3N7T0DY83Y4IG</td>\n",
       "      <td>0528881469</td>\n",
       "      <td>C. A. Freeman</td>\n",
       "      <td>[43, 45]</td>\n",
       "      <td>Well, what can I say.  I've had this unit in m...</td>\n",
       "      <td>3</td>\n",
       "      <td>1st impression</td>\n",
       "      <td>1283990400</td>\n",
       "      <td>09 9, 2010</td>\n",
       "    </tr>\n",
       "    <tr>\n",
       "      <th>3</th>\n",
       "      <td>A1H8PY3QHMQQA0</td>\n",
       "      <td>0528881469</td>\n",
       "      <td>Dave M. Shaw \"mack dave\"</td>\n",
       "      <td>[9, 10]</td>\n",
       "      <td>Not going to write a long review, even thought...</td>\n",
       "      <td>2</td>\n",
       "      <td>Great grafics, POOR GPS</td>\n",
       "      <td>1290556800</td>\n",
       "      <td>11 24, 2010</td>\n",
       "    </tr>\n",
       "    <tr>\n",
       "      <th>4</th>\n",
       "      <td>A24EV6RXELQZ63</td>\n",
       "      <td>0528881469</td>\n",
       "      <td>Wayne Smith</td>\n",
       "      <td>[0, 0]</td>\n",
       "      <td>I've had mine for a year and here's what we go...</td>\n",
       "      <td>1</td>\n",
       "      <td>Major issues, only excuses for support</td>\n",
       "      <td>1317254400</td>\n",
       "      <td>09 29, 2011</td>\n",
       "    </tr>\n",
       "    <tr>\n",
       "      <th>...</th>\n",
       "      <td>...</td>\n",
       "      <td>...</td>\n",
       "      <td>...</td>\n",
       "      <td>...</td>\n",
       "      <td>...</td>\n",
       "      <td>...</td>\n",
       "      <td>...</td>\n",
       "      <td>...</td>\n",
       "      <td>...</td>\n",
       "    </tr>\n",
       "    <tr>\n",
       "      <th>3543</th>\n",
       "      <td>A3BL333OWK3I4J</td>\n",
       "      <td>B00001P4XA</td>\n",
       "      <td>Careful Driver</td>\n",
       "      <td>[0, 0]</td>\n",
       "      <td>Works fine as a basic set of earphones. Howeve...</td>\n",
       "      <td>2</td>\n",
       "      <td>Don't expect much from it</td>\n",
       "      <td>1209340800</td>\n",
       "      <td>04 28, 2008</td>\n",
       "    </tr>\n",
       "    <tr>\n",
       "      <th>3544</th>\n",
       "      <td>A19MJFMEE3035J</td>\n",
       "      <td>B00001P4XA</td>\n",
       "      <td>C. Ervin</td>\n",
       "      <td>[1, 1]</td>\n",
       "      <td>If you want to go jogging or work out while li...</td>\n",
       "      <td>5</td>\n",
       "      <td>Best jogging headphones</td>\n",
       "      <td>1291334400</td>\n",
       "      <td>12 3, 2010</td>\n",
       "    </tr>\n",
       "    <tr>\n",
       "      <th>3545</th>\n",
       "      <td>AXDI7SSVP9VMZ</td>\n",
       "      <td>B00001P4XA</td>\n",
       "      <td>C. Forsyth</td>\n",
       "      <td>[1, 3]</td>\n",
       "      <td>I found these to be a waste of money and time....</td>\n",
       "      <td>2</td>\n",
       "      <td>The Plug by Koss</td>\n",
       "      <td>1155600000</td>\n",
       "      <td>08 15, 2006</td>\n",
       "    </tr>\n",
       "    <tr>\n",
       "      <th>3546</th>\n",
       "      <td>A3479FS9K87E6O</td>\n",
       "      <td>B00001P4XA</td>\n",
       "      <td>Chaos5061 \"Louie\"</td>\n",
       "      <td>[0, 0]</td>\n",
       "      <td>I had a older version of this headphone that h...</td>\n",
       "      <td>1</td>\n",
       "      <td>Good head[hones but...</td>\n",
       "      <td>1276300800</td>\n",
       "      <td>06 12, 2010</td>\n",
       "    </tr>\n",
       "    <tr>\n",
       "      <th>3547</th>\n",
       "      <td>A2AAN5OO6QZ905</td>\n",
       "      <td>B00001P4XA</td>\n",
       "      <td>Chase Holden</td>\n",
       "      <td>[0, 0]</td>\n",
       "      <td>No matter what sale or deal there is or how ch...</td>\n",
       "      <td>1</td>\n",
       "      <td>Worst earphones ever. Don't waste a penny on t...</td>\n",
       "      <td>1396051200</td>\n",
       "      <td>03 29, 2014</td>\n",
       "    </tr>\n",
       "  </tbody>\n",
       "</table>\n",
       "<p>3548 rows × 9 columns</p>\n",
       "</div>"
      ],
      "text/plain": [
       "          reviewerID        asin              reviewerName   helpful  \\\n",
       "0      AO94DHGC771SJ  0528881469                   amazdnu    [0, 0]   \n",
       "1      AMO214LNFCEI4  0528881469           Amazon Customer  [12, 15]   \n",
       "2     A3N7T0DY83Y4IG  0528881469             C. A. Freeman  [43, 45]   \n",
       "3     A1H8PY3QHMQQA0  0528881469  Dave M. Shaw \"mack dave\"   [9, 10]   \n",
       "4     A24EV6RXELQZ63  0528881469               Wayne Smith    [0, 0]   \n",
       "...              ...         ...                       ...       ...   \n",
       "3543  A3BL333OWK3I4J  B00001P4XA            Careful Driver    [0, 0]   \n",
       "3544  A19MJFMEE3035J  B00001P4XA                  C. Ervin    [1, 1]   \n",
       "3545   AXDI7SSVP9VMZ  B00001P4XA                C. Forsyth    [1, 3]   \n",
       "3546  A3479FS9K87E6O  B00001P4XA         Chaos5061 \"Louie\"    [0, 0]   \n",
       "3547  A2AAN5OO6QZ905  B00001P4XA              Chase Holden    [0, 0]   \n",
       "\n",
       "                                             reviewText  overall  \\\n",
       "0     We got this GPS for my husband who is an (OTR)...        5   \n",
       "1     I'm a professional OTR truck driver, and I bou...        1   \n",
       "2     Well, what can I say.  I've had this unit in m...        3   \n",
       "3     Not going to write a long review, even thought...        2   \n",
       "4     I've had mine for a year and here's what we go...        1   \n",
       "...                                                 ...      ...   \n",
       "3543  Works fine as a basic set of earphones. Howeve...        2   \n",
       "3544  If you want to go jogging or work out while li...        5   \n",
       "3545  I found these to be a waste of money and time....        2   \n",
       "3546  I had a older version of this headphone that h...        1   \n",
       "3547  No matter what sale or deal there is or how ch...        1   \n",
       "\n",
       "                                                summary  unixReviewTime  \\\n",
       "0                                       Gotta have GPS!      1370131200   \n",
       "1                                     Very Disappointed      1290643200   \n",
       "2                                        1st impression      1283990400   \n",
       "3                               Great grafics, POOR GPS      1290556800   \n",
       "4                Major issues, only excuses for support      1317254400   \n",
       "...                                                 ...             ...   \n",
       "3543                          Don't expect much from it      1209340800   \n",
       "3544                            Best jogging headphones      1291334400   \n",
       "3545                                   The Plug by Koss      1155600000   \n",
       "3546                             Good head[hones but...      1276300800   \n",
       "3547  Worst earphones ever. Don't waste a penny on t...      1396051200   \n",
       "\n",
       "       reviewTime  \n",
       "0      06 2, 2013  \n",
       "1     11 25, 2010  \n",
       "2      09 9, 2010  \n",
       "3     11 24, 2010  \n",
       "4     09 29, 2011  \n",
       "...           ...  \n",
       "3543  04 28, 2008  \n",
       "3544   12 3, 2010  \n",
       "3545  08 15, 2006  \n",
       "3546  06 12, 2010  \n",
       "3547  03 29, 2014  \n",
       "\n",
       "[3548 rows x 9 columns]"
      ]
     },
     "execution_count": 4,
     "metadata": {},
     "output_type": "execute_result"
    }
   ],
   "source": [
    "# Read json data\n",
    "data=pd.read_json('Electronics_5.json',lines=True,orient='columns')\n",
    "data"
   ]
  },
  {
   "cell_type": "markdown",
   "metadata": {
    "papermill": {
     "duration": 0.045485,
     "end_time": "2021-03-26T05:40:21.953038",
     "exception": false,
     "start_time": "2021-03-26T05:40:21.907553",
     "status": "completed"
    },
    "tags": []
   },
   "source": [
    "Since our reviews may also contain duplicates, we are using the drop_duplicate() function to remove duplicates.\n",
    "For more info,see [here](https://pandas.pydata.org/docs/reference/api/pandas.DataFrame.drop_duplicates.html)."
   ]
  },
  {
   "cell_type": "code",
   "execution_count": 5,
   "metadata": {
    "execution": {
     "iopub.execute_input": "2021-03-26T05:40:22.186540Z",
     "iopub.status.busy": "2021-03-26T05:40:22.185786Z",
     "iopub.status.idle": "2021-03-26T05:40:27.723475Z",
     "shell.execute_reply": "2021-03-26T05:40:27.721990Z"
    },
    "papermill": {
     "duration": 5.723417,
     "end_time": "2021-03-26T05:40:27.723764",
     "exception": false,
     "start_time": "2021-03-26T05:40:22.000347",
     "status": "completed"
    },
    "tags": []
   },
   "outputs": [
    {
     "name": "stdout",
     "output_type": "stream",
     "text": [
      "The shape of the data set before removing duplicate reviews : (3548, 9)\n",
      "The shape of the data set after removing duplicate reviews : (3545, 9)\n"
     ]
    }
   ],
   "source": [
    "# Remove duplicate reviews(if any)\n",
    "print(\"The shape of the data set before removing duplicate reviews : {}\".format(data.shape))\n",
    "data=data.drop_duplicates(subset=[\"reviewText\"], keep='first', inplace=False)\n",
    "print(\"The shape of the data set after removing duplicate reviews : {}\".format(data.shape))"
   ]
  },
  {
   "cell_type": "markdown",
   "metadata": {
    "papermill": {
     "duration": 0.048789,
     "end_time": "2021-03-26T05:40:27.829736",
     "exception": false,
     "start_time": "2021-03-26T05:40:27.780947",
     "status": "completed"
    },
    "tags": []
   },
   "source": [
    "As we can see, our data did have duplicate reviews. Now let's go-to text preprocessing."
   ]
  },
  {
   "cell_type": "markdown",
   "metadata": {
    "papermill": {
     "duration": 0.060829,
     "end_time": "2021-03-26T05:40:27.938984",
     "exception": false,
     "start_time": "2021-03-26T05:40:27.878155",
     "status": "completed"
    },
    "tags": []
   },
   "source": [
    "Text Preprocessing\n",
    "--"
   ]
  },
  {
   "cell_type": "markdown",
   "metadata": {
    "papermill": {
     "duration": 0.056199,
     "end_time": "2021-03-26T05:40:28.056506",
     "exception": false,
     "start_time": "2021-03-26T05:40:28.000307",
     "status": "completed"
    },
    "tags": []
   },
   "source": [
    "Since we are having two problem statements, both of which require the same kind of preprocessing, we are going to preprocess before starting with the problem statements.\n",
    "\n",
    "Preprocessing before going to problem statements will save a lot of time since just to preprocess once, I required about an hour."
   ]
  },
  {
   "cell_type": "code",
   "execution_count": 6,
   "metadata": {
    "execution": {
     "iopub.execute_input": "2021-03-26T05:40:28.164788Z",
     "iopub.status.busy": "2021-03-26T05:40:28.163654Z",
     "iopub.status.idle": "2021-03-26T05:40:28.167090Z",
     "shell.execute_reply": "2021-03-26T05:40:28.166579Z"
    },
    "papermill": {
     "duration": 0.062218,
     "end_time": "2021-03-26T05:40:28.167241",
     "exception": false,
     "start_time": "2021-03-26T05:40:28.105023",
     "status": "completed"
    },
    "tags": []
   },
   "outputs": [],
   "source": [
    "def preprocess(x):\n",
    "    x = x.replace(\",000,000\", \" m\").replace(\",000\", \" k\").replace(\"′\", \"'\").replace(\"’\", \"'\")\\\n",
    "                           .replace(\"won't\", \" will not\").replace(\"cannot\", \" can not\").replace(\"can't\", \" can not\")\\\n",
    "                           .replace(\"n't\", \" not\").replace(\"what's\", \" what is\").replace(\"it's\", \" it is\")\\\n",
    "                           .replace(\"'ve\", \" have\").replace(\"'m\", \" am\").replace(\"'re\", \" are\")\\\n",
    "                           .replace(\"he's\", \" he is\").replace(\"she's\", \" she is\").replace(\"'s\", \" own\")\\\n",
    "                           .replace(\"%\", \" percent \").replace(\"₹\", \" rupee \").replace(\"$\", \" dollar \")\\\n",
    "                           .replace(\"€\", \" euro \").replace(\"'ll\", \" will\").replace(\"how's\",\" how has\").replace(\"y'all\",\" you all\")\\\n",
    "                           .replace(\"o'clock\",\" of the clock\").replace(\"ne'er\",\" never\").replace(\"let's\",\" let us\")\\\n",
    "                           .replace(\"finna\",\" fixing to\").replace(\"gonna\",\" going to\").replace(\"gimme\",\" give me\").replace(\"gotta\",\" got to\").replace(\"'d\",\" would\")\\\n",
    "                           .replace(\"daresn't\",\" dare not\").replace(\"dasn't\",\" dare not\").replace(\"e'er\",\" ever\").replace(\"everyone's\",\" everyone is\")\\\n",
    "                           .replace(\"'cause'\",\" because\").replace(\"i'm\",\" i am\")\n",
    "    \n",
    "    x = re.sub(r\"([0-9]+)000000\", r\"\\1m\", x)\n",
    "    x = re.sub(r\"([0-9]+)000\", r\"\\1k\", x)\n",
    "    x=re.sub(r'((www\\.[^\\s]+)|(https?://[^\\s]+))',' ',x)\n",
    "    x=re.sub(r\"\\\\s*\\\\b(?=\\\\w*(\\\\w)\\\\1{2,})\\\\w*\\\\b\",' ',x)\n",
    "    x=re.sub(r'<.*?>',' ',x)\n",
    "    x=re.sub('[^a-zA-Z]',' ',x)\n",
    "    x=''.join([i for i in x if not i.isdigit()])\n",
    "    return x"
   ]
  },
  {
   "cell_type": "markdown",
   "metadata": {
    "papermill": {
     "duration": 0.046572,
     "end_time": "2021-03-26T05:40:28.264872",
     "exception": false,
     "start_time": "2021-03-26T05:40:28.218300",
     "status": "completed"
    },
    "tags": []
   },
   "source": [
    "Here we are going to first convert reviews to lowercase. Then we are going to do preprocessing. And finally, go to lemmatization.\n",
    "\n",
    "Here we could also use stemming but I am going to use lemmatization.\n",
    "\n",
    "> **Stemming:** Stemming is a process of extracting a root word. For example, “fish,” “fishes,” and “fishing” are stemmed into fish.\n",
    "> \n",
    "> **Lemmatization:** Lemmatization is a process of extracting a root word by considering the vocabulary. For example, “good,” “better,” or “best” is lemmatized into good. The part of speech of a word is determined in lemmatization. It will return the dictionary form of a word, which must be valid while stemming just extracts the root word.\n",
    "\n",
    "*Lemmatization handles matching “car” to “cars” along with matching “car” to “automobile.”*\n",
    "\n",
    "*Stemming handles matching “car” to “cars.”*\n",
    "\n",
    "For more info see [here](https://nlp.stanford.edu/IR-book/html/htmledition/stemming-and-lemmatization-1.html)."
   ]
  },
  {
   "cell_type": "code",
   "execution_count": 7,
   "metadata": {
    "execution": {
     "iopub.execute_input": "2021-03-26T05:40:28.372017Z",
     "iopub.status.busy": "2021-03-26T05:40:28.371269Z",
     "iopub.status.idle": "2021-03-26T06:17:32.324044Z",
     "shell.execute_reply": "2021-03-26T06:17:32.324692Z"
    },
    "papermill": {
     "duration": 2224.010722,
     "end_time": "2021-03-26T06:17:32.325051",
     "exception": false,
     "start_time": "2021-03-26T05:40:28.314329",
     "status": "completed"
    },
    "tags": []
   },
   "outputs": [
    {
     "data": {
      "text/plain": [
       "0    we got this gps for my husband who is an otr o...\n",
       "1    im a professional otr truck driver and i bough...\n",
       "2    well what can i say ive had this unit in my tr...\n",
       "3    not going to write a long review even thought ...\n",
       "4    ive had mine for a year and here what we got i...\n",
       "Name: reviewText, dtype: object"
      ]
     },
     "execution_count": 7,
     "metadata": {},
     "output_type": "execute_result"
    }
   ],
   "source": [
    "# Import libraries\n",
    "from nltk.corpus import stopwords\n",
    "from textblob import TextBlob\n",
    "from textblob import Word\n",
    "\n",
    "# Lower casing and removing punctuations\n",
    "data['reviewText'] = data['reviewText'].apply(lambda x: \" \".join(x.lower() for x in x.split()))\n",
    "data['reviewText'] = data['reviewText'].str.replace('[^\\w\\s]','')\n",
    "\n",
    "# Removing stopwords\n",
    "#stop = stopwords.words('english')\n",
    "#data['reviewText'] = data['reviewText'].apply(lambda x: \" \".join(x for x in x.split() if x not in stop))\n",
    "data['reviewText'] = data['reviewText'].apply(lambda x: preprocess(x))\n",
    "# Lemmatization\n",
    "\n",
    "data['reviewText'] = data['reviewText'].apply(lambda x: \" \".join([Word(word).lemmatize() for word in x.split()]))\n",
    "data.reviewText.head(5)"
   ]
  },
  {
   "cell_type": "markdown",
   "metadata": {
    "papermill": {
     "duration": 0.049309,
     "end_time": "2021-03-26T06:17:32.426567",
     "exception": false,
     "start_time": "2021-03-26T06:17:32.377258",
     "status": "completed"
    },
    "tags": []
   },
   "source": [
    "Now, let's start with problem statements."
   ]
  },
  {
   "cell_type": "markdown",
   "metadata": {
    "papermill": {
     "duration": 0.049534,
     "end_time": "2021-03-26T06:17:32.525926",
     "exception": false,
     "start_time": "2021-03-26T06:17:32.476392",
     "status": "completed"
    },
    "tags": []
   },
   "source": [
    "# Problem Statement 1"
   ]
  },
  {
   "cell_type": "markdown",
   "metadata": {
    "papermill": {
     "duration": 0.048864,
     "end_time": "2021-03-26T06:17:32.625477",
     "exception": false,
     "start_time": "2021-03-26T06:17:32.576613",
     "status": "completed"
    },
    "tags": []
   },
   "source": [
    "A Rough Overview\n",
    "--\n",
    "Marketing is an essential part of the business. \n",
    "Digital marketing was already in hype for the past few years, but due to this pandemic, it has increased exponentially. \n",
    "Since a customer cannot physically check the product, he/she has to depend on reviews of the given product. \n",
    "\n",
    "Amazon has a helpfulness rating system, that allows users to see top-rated reviews which can help a customer to make an informed decision. \n",
    "\n",
    "But even if this helps, poor-quality reviews can still come on top of forums.\n",
    "\n",
    "Having poor quality reviews displayed in forums hurts Amazon’s business since the major reason as stated above is that people are willing to buy consumer goods online without seeing the items themselves because they have access to other people's opinions of the item. "
   ]
  },
  {
   "cell_type": "markdown",
   "metadata": {
    "papermill": {
     "duration": 0.050485,
     "end_time": "2021-03-26T06:17:32.727483",
     "exception": false,
     "start_time": "2021-03-26T06:17:32.676998",
     "status": "completed"
    },
    "tags": []
   },
   "source": [
    "Problem Statement\n",
    "--\n",
    "The problem addressed here is Amazon Reviews of poor quality that are there, at the top of forums despite the helpfulness rating system of Amazon. \n",
    "This problem mainly arises due to the new reviews are directly placed on top of the forum which would give the community a chance to rate them.\n",
    "\n",
    "The solution to this problem is to create a model using machine learning techniques that would pre-rate the helpfulness of a given customer review before they are posted on the top of the forum. \n",
    "This way poor quality reviews would not be shown on top of forums.\n",
    "\n",
    "The model will be trained on Amazon Reviews for Electronic Category to predict if a given review is helpful or not helpful."
   ]
  },
  {
   "cell_type": "markdown",
   "metadata": {
    "papermill": {
     "duration": 0.049698,
     "end_time": "2021-03-26T06:17:32.826868",
     "exception": false,
     "start_time": "2021-03-26T06:17:32.777170",
     "status": "completed"
    },
    "tags": []
   },
   "source": [
    "Let's see the given data."
   ]
  },
  {
   "cell_type": "code",
   "execution_count": 8,
   "metadata": {
    "execution": {
     "iopub.execute_input": "2021-03-26T06:17:32.955919Z",
     "iopub.status.busy": "2021-03-26T06:17:32.954763Z",
     "iopub.status.idle": "2021-03-26T06:17:32.962967Z",
     "shell.execute_reply": "2021-03-26T06:17:32.963880Z"
    },
    "papermill": {
     "duration": 0.083237,
     "end_time": "2021-03-26T06:17:32.964498",
     "exception": false,
     "start_time": "2021-03-26T06:17:32.881261",
     "status": "completed"
    },
    "tags": []
   },
   "outputs": [
    {
     "data": {
      "text/html": [
       "<div>\n",
       "<style scoped>\n",
       "    .dataframe tbody tr th:only-of-type {\n",
       "        vertical-align: middle;\n",
       "    }\n",
       "\n",
       "    .dataframe tbody tr th {\n",
       "        vertical-align: top;\n",
       "    }\n",
       "\n",
       "    .dataframe thead th {\n",
       "        text-align: right;\n",
       "    }\n",
       "</style>\n",
       "<table border=\"1\" class=\"dataframe\">\n",
       "  <thead>\n",
       "    <tr style=\"text-align: right;\">\n",
       "      <th></th>\n",
       "      <th>reviewerID</th>\n",
       "      <th>asin</th>\n",
       "      <th>reviewerName</th>\n",
       "      <th>helpful</th>\n",
       "      <th>reviewText</th>\n",
       "      <th>overall</th>\n",
       "      <th>summary</th>\n",
       "      <th>unixReviewTime</th>\n",
       "      <th>reviewTime</th>\n",
       "    </tr>\n",
       "  </thead>\n",
       "  <tbody>\n",
       "    <tr>\n",
       "      <th>0</th>\n",
       "      <td>AO94DHGC771SJ</td>\n",
       "      <td>0528881469</td>\n",
       "      <td>amazdnu</td>\n",
       "      <td>[0, 0]</td>\n",
       "      <td>we got this gps for my husband who is an otr o...</td>\n",
       "      <td>5</td>\n",
       "      <td>Gotta have GPS!</td>\n",
       "      <td>1370131200</td>\n",
       "      <td>06 2, 2013</td>\n",
       "    </tr>\n",
       "    <tr>\n",
       "      <th>1</th>\n",
       "      <td>AMO214LNFCEI4</td>\n",
       "      <td>0528881469</td>\n",
       "      <td>Amazon Customer</td>\n",
       "      <td>[12, 15]</td>\n",
       "      <td>im a professional otr truck driver and i bough...</td>\n",
       "      <td>1</td>\n",
       "      <td>Very Disappointed</td>\n",
       "      <td>1290643200</td>\n",
       "      <td>11 25, 2010</td>\n",
       "    </tr>\n",
       "    <tr>\n",
       "      <th>2</th>\n",
       "      <td>A3N7T0DY83Y4IG</td>\n",
       "      <td>0528881469</td>\n",
       "      <td>C. A. Freeman</td>\n",
       "      <td>[43, 45]</td>\n",
       "      <td>well what can i say ive had this unit in my tr...</td>\n",
       "      <td>3</td>\n",
       "      <td>1st impression</td>\n",
       "      <td>1283990400</td>\n",
       "      <td>09 9, 2010</td>\n",
       "    </tr>\n",
       "    <tr>\n",
       "      <th>3</th>\n",
       "      <td>A1H8PY3QHMQQA0</td>\n",
       "      <td>0528881469</td>\n",
       "      <td>Dave M. Shaw \"mack dave\"</td>\n",
       "      <td>[9, 10]</td>\n",
       "      <td>not going to write a long review even thought ...</td>\n",
       "      <td>2</td>\n",
       "      <td>Great grafics, POOR GPS</td>\n",
       "      <td>1290556800</td>\n",
       "      <td>11 24, 2010</td>\n",
       "    </tr>\n",
       "    <tr>\n",
       "      <th>4</th>\n",
       "      <td>A24EV6RXELQZ63</td>\n",
       "      <td>0528881469</td>\n",
       "      <td>Wayne Smith</td>\n",
       "      <td>[0, 0]</td>\n",
       "      <td>ive had mine for a year and here what we got i...</td>\n",
       "      <td>1</td>\n",
       "      <td>Major issues, only excuses for support</td>\n",
       "      <td>1317254400</td>\n",
       "      <td>09 29, 2011</td>\n",
       "    </tr>\n",
       "  </tbody>\n",
       "</table>\n",
       "</div>"
      ],
      "text/plain": [
       "       reviewerID        asin              reviewerName   helpful  \\\n",
       "0   AO94DHGC771SJ  0528881469                   amazdnu    [0, 0]   \n",
       "1   AMO214LNFCEI4  0528881469           Amazon Customer  [12, 15]   \n",
       "2  A3N7T0DY83Y4IG  0528881469             C. A. Freeman  [43, 45]   \n",
       "3  A1H8PY3QHMQQA0  0528881469  Dave M. Shaw \"mack dave\"   [9, 10]   \n",
       "4  A24EV6RXELQZ63  0528881469               Wayne Smith    [0, 0]   \n",
       "\n",
       "                                          reviewText  overall  \\\n",
       "0  we got this gps for my husband who is an otr o...        5   \n",
       "1  im a professional otr truck driver and i bough...        1   \n",
       "2  well what can i say ive had this unit in my tr...        3   \n",
       "3  not going to write a long review even thought ...        2   \n",
       "4  ive had mine for a year and here what we got i...        1   \n",
       "\n",
       "                                  summary  unixReviewTime   reviewTime  \n",
       "0                         Gotta have GPS!      1370131200   06 2, 2013  \n",
       "1                       Very Disappointed      1290643200  11 25, 2010  \n",
       "2                          1st impression      1283990400   09 9, 2010  \n",
       "3                 Great grafics, POOR GPS      1290556800  11 24, 2010  \n",
       "4  Major issues, only excuses for support      1317254400  09 29, 2011  "
      ]
     },
     "execution_count": 8,
     "metadata": {},
     "output_type": "execute_result"
    }
   ],
   "source": [
    "data.head()"
   ]
  },
  {
   "cell_type": "markdown",
   "metadata": {
    "papermill": {
     "duration": 0.050089,
     "end_time": "2021-03-26T06:17:33.067443",
     "exception": false,
     "start_time": "2021-03-26T06:17:33.017354",
     "status": "completed"
    },
    "tags": []
   },
   "source": [
    "**Based on the above data we can say:**\n",
    "> Input Features : reviewText,overall\n",
    "\n",
    "> Output labels: helpfulness\n",
    "\n",
    "**Reason for selecting input features:** When we give any review, along with text(reviewText) of the review we also give a rating in stars(overall).\n",
    "\n",
    "**A brief explanation about the helpful column:** helpful column given above is a list containing two values---no of helpful ratings and the total no of ratings--- separated by a comma.\n",
    "\n",
    "We are dividing the helpful column into two parts i.e. \n",
    " \n",
    " > helpful_numerator => contains no. of helpful rating.\n",
    " \n",
    " > helpful_denominator => contains total no. of ratings.\n",
    "\n",
    "and then we are deleting the helpful column.\n"
   ]
  },
  {
   "cell_type": "code",
   "execution_count": 9,
   "metadata": {
    "execution": {
     "iopub.execute_input": "2021-03-26T06:17:33.182752Z",
     "iopub.status.busy": "2021-03-26T06:17:33.182009Z",
     "iopub.status.idle": "2021-03-26T06:17:35.966208Z",
     "shell.execute_reply": "2021-03-26T06:17:35.965138Z"
    },
    "papermill": {
     "duration": 2.849211,
     "end_time": "2021-03-26T06:17:35.966454",
     "exception": false,
     "start_time": "2021-03-26T06:17:33.117243",
     "status": "completed"
    },
    "tags": []
   },
   "outputs": [
    {
     "name": "stdout",
     "output_type": "stream",
     "text": [
      "overall                0\n",
      "reviewText             0\n",
      "helpful_numerator      0\n",
      "helpful_denominator    0\n",
      "dtype: int64\n"
     ]
    }
   ],
   "source": [
    "#select the columns\n",
    "df = data.iloc[:, [5,4,3]]\n",
    "\n",
    "#split numerator and denominator\n",
    "df['helpful_numerator'] = df['helpful'].apply(lambda x: x[0])\n",
    "df['helpful_denominator'] = df['helpful'].apply(lambda x: x[1])\n",
    "\n",
    "# delete un-needed helpful column\n",
    "del df['helpful']\n",
    "\n",
    "#Check if we have any null values\n",
    "print (df.isnull().sum())"
   ]
  },
  {
   "cell_type": "markdown",
   "metadata": {
    "papermill": {
     "duration": 0.052237,
     "end_time": "2021-03-26T06:17:36.066982",
     "exception": false,
     "start_time": "2021-03-26T06:17:36.014745",
     "status": "completed"
    },
    "tags": []
   },
   "source": [
    "Let's see some stats."
   ]
  },
  {
   "cell_type": "code",
   "execution_count": 10,
   "metadata": {
    "execution": {
     "iopub.execute_input": "2021-03-26T06:17:36.178990Z",
     "iopub.status.busy": "2021-03-26T06:17:36.178014Z",
     "iopub.status.idle": "2021-03-26T06:17:36.367759Z",
     "shell.execute_reply": "2021-03-26T06:17:36.366929Z"
    },
    "papermill": {
     "duration": 0.252609,
     "end_time": "2021-03-26T06:17:36.368451",
     "exception": false,
     "start_time": "2021-03-26T06:17:36.115842",
     "status": "completed"
    },
    "tags": []
   },
   "outputs": [
    {
     "data": {
      "text/html": [
       "<div>\n",
       "<style scoped>\n",
       "    .dataframe tbody tr th:only-of-type {\n",
       "        vertical-align: middle;\n",
       "    }\n",
       "\n",
       "    .dataframe tbody tr th {\n",
       "        vertical-align: top;\n",
       "    }\n",
       "\n",
       "    .dataframe thead th {\n",
       "        text-align: right;\n",
       "    }\n",
       "</style>\n",
       "<table border=\"1\" class=\"dataframe\">\n",
       "  <thead>\n",
       "    <tr style=\"text-align: right;\">\n",
       "      <th></th>\n",
       "      <th>overall</th>\n",
       "      <th>helpful_numerator</th>\n",
       "      <th>helpful_denominator</th>\n",
       "    </tr>\n",
       "  </thead>\n",
       "  <tbody>\n",
       "    <tr>\n",
       "      <th>count</th>\n",
       "      <td>3545.000000</td>\n",
       "      <td>3545.000000</td>\n",
       "      <td>3545.000000</td>\n",
       "    </tr>\n",
       "    <tr>\n",
       "      <th>mean</th>\n",
       "      <td>4.202539</td>\n",
       "      <td>5.162482</td>\n",
       "      <td>5.882934</td>\n",
       "    </tr>\n",
       "    <tr>\n",
       "      <th>std</th>\n",
       "      <td>1.214865</td>\n",
       "      <td>21.162774</td>\n",
       "      <td>22.175134</td>\n",
       "    </tr>\n",
       "    <tr>\n",
       "      <th>min</th>\n",
       "      <td>1.000000</td>\n",
       "      <td>0.000000</td>\n",
       "      <td>0.000000</td>\n",
       "    </tr>\n",
       "    <tr>\n",
       "      <th>25%</th>\n",
       "      <td>4.000000</td>\n",
       "      <td>0.000000</td>\n",
       "      <td>0.000000</td>\n",
       "    </tr>\n",
       "    <tr>\n",
       "      <th>50%</th>\n",
       "      <td>5.000000</td>\n",
       "      <td>0.000000</td>\n",
       "      <td>1.000000</td>\n",
       "    </tr>\n",
       "    <tr>\n",
       "      <th>75%</th>\n",
       "      <td>5.000000</td>\n",
       "      <td>2.000000</td>\n",
       "      <td>3.000000</td>\n",
       "    </tr>\n",
       "    <tr>\n",
       "      <th>max</th>\n",
       "      <td>5.000000</td>\n",
       "      <td>507.000000</td>\n",
       "      <td>525.000000</td>\n",
       "    </tr>\n",
       "  </tbody>\n",
       "</table>\n",
       "</div>"
      ],
      "text/plain": [
       "           overall  helpful_numerator  helpful_denominator\n",
       "count  3545.000000        3545.000000          3545.000000\n",
       "mean      4.202539           5.162482             5.882934\n",
       "std       1.214865          21.162774            22.175134\n",
       "min       1.000000           0.000000             0.000000\n",
       "25%       4.000000           0.000000             0.000000\n",
       "50%       5.000000           0.000000             1.000000\n",
       "75%       5.000000           2.000000             3.000000\n",
       "max       5.000000         507.000000           525.000000"
      ]
     },
     "execution_count": 10,
     "metadata": {},
     "output_type": "execute_result"
    }
   ],
   "source": [
    "df.describe()"
   ]
  },
  {
   "cell_type": "markdown",
   "metadata": {
    "papermill": {
     "duration": 0.05185,
     "end_time": "2021-03-26T06:17:36.469779",
     "exception": false,
     "start_time": "2021-03-26T06:17:36.417929",
     "status": "completed"
    },
    "tags": []
   },
   "source": [
    "Here, since our dataset is huge(about 1687169 records), we are taking only those records that have at least 20 ratings in total."
   ]
  },
  {
   "cell_type": "code",
   "execution_count": 11,
   "metadata": {
    "execution": {
     "iopub.execute_input": "2021-03-26T06:17:36.586122Z",
     "iopub.status.busy": "2021-03-26T06:17:36.585395Z",
     "iopub.status.idle": "2021-03-26T06:17:36.610171Z",
     "shell.execute_reply": "2021-03-26T06:17:36.610717Z"
    },
    "papermill": {
     "duration": 0.086006,
     "end_time": "2021-03-26T06:17:36.610925",
     "exception": false,
     "start_time": "2021-03-26T06:17:36.524919",
     "status": "completed"
    },
    "tags": []
   },
   "outputs": [
    {
     "data": {
      "text/plain": [
       "(226, 4)"
      ]
     },
     "execution_count": 11,
     "metadata": {},
     "output_type": "execute_result"
    }
   ],
   "source": [
    "# include reviews that have more than 20 helpfulness data point only\n",
    "df1 = df[(df.helpful_denominator > 20)].copy()\n",
    "df1.shape"
   ]
  },
  {
   "cell_type": "markdown",
   "metadata": {
    "papermill": {
     "duration": 0.051681,
     "end_time": "2021-03-26T06:17:36.713221",
     "exception": false,
     "start_time": "2021-03-26T06:17:36.661540",
     "status": "completed"
    },
    "tags": []
   },
   "source": [
    "Here to get our output label **helpfulness**, we have to take the ratio of helpful_numerator to helpful_denominator. The result is compared with a threshold value(*we are taking threshold as 50%, but we can change it as per our requirement*).\n",
    "* If result > threshold ==> helpful = 1\n",
    "* if result < treshold ==> not helpful = 0"
   ]
  },
  {
   "cell_type": "code",
   "execution_count": 12,
   "metadata": {
    "execution": {
     "iopub.execute_input": "2021-03-26T06:17:36.822593Z",
     "iopub.status.busy": "2021-03-26T06:17:36.821708Z",
     "iopub.status.idle": "2021-03-26T06:17:36.843565Z",
     "shell.execute_reply": "2021-03-26T06:17:36.844097Z"
    },
    "papermill": {
     "duration": 0.080701,
     "end_time": "2021-03-26T06:17:36.844301",
     "exception": false,
     "start_time": "2021-03-26T06:17:36.763600",
     "status": "completed"
    },
    "tags": []
   },
   "outputs": [
    {
     "data": {
      "text/html": [
       "<div>\n",
       "<style scoped>\n",
       "    .dataframe tbody tr th:only-of-type {\n",
       "        vertical-align: middle;\n",
       "    }\n",
       "\n",
       "    .dataframe tbody tr th {\n",
       "        vertical-align: top;\n",
       "    }\n",
       "\n",
       "    .dataframe thead th {\n",
       "        text-align: right;\n",
       "    }\n",
       "</style>\n",
       "<table border=\"1\" class=\"dataframe\">\n",
       "  <thead>\n",
       "    <tr style=\"text-align: right;\">\n",
       "      <th></th>\n",
       "      <th>overall</th>\n",
       "      <th>reviewText</th>\n",
       "      <th>helpful_numerator</th>\n",
       "      <th>helpful_denominator</th>\n",
       "      <th>Helpful</th>\n",
       "    </tr>\n",
       "  </thead>\n",
       "  <tbody>\n",
       "    <tr>\n",
       "      <th>2</th>\n",
       "      <td>3</td>\n",
       "      <td>well what can i say ive had this unit in my tr...</td>\n",
       "      <td>43</td>\n",
       "      <td>45</td>\n",
       "      <td>1</td>\n",
       "    </tr>\n",
       "    <tr>\n",
       "      <th>211</th>\n",
       "      <td>3</td>\n",
       "      <td>i purchased this mount for my inch lcd tv inst...</td>\n",
       "      <td>70</td>\n",
       "      <td>92</td>\n",
       "      <td>1</td>\n",
       "    </tr>\n",
       "    <tr>\n",
       "      <th>221</th>\n",
       "      <td>5</td>\n",
       "      <td>do not listen to other reviewer screw that thi...</td>\n",
       "      <td>18</td>\n",
       "      <td>23</td>\n",
       "      <td>1</td>\n",
       "    </tr>\n",
       "  </tbody>\n",
       "</table>\n",
       "</div>"
      ],
      "text/plain": [
       "     overall                                         reviewText  \\\n",
       "2          3  well what can i say ive had this unit in my tr...   \n",
       "211        3  i purchased this mount for my inch lcd tv inst...   \n",
       "221        5  do not listen to other reviewer screw that thi...   \n",
       "\n",
       "     helpful_numerator  helpful_denominator  Helpful  \n",
       "2                   43                   45        1  \n",
       "211                 70                   92        1  \n",
       "221                 18                   23        1  "
      ]
     },
     "execution_count": 12,
     "metadata": {},
     "output_type": "execute_result"
    }
   ],
   "source": [
    "# transform Helpfulness into a binary variable with 0.5 ratio\n",
    "threshold = 0.5\n",
    "df1.loc[:, 'Helpful'] = np.where(df1.loc[:, 'helpful_numerator'] \\\n",
    "                                 / df1.loc[:, 'helpful_denominator'] > threshold, 1, 0)\n",
    "df1.head(3)"
   ]
  },
  {
   "cell_type": "markdown",
   "metadata": {
    "papermill": {
     "duration": 0.052406,
     "end_time": "2021-03-26T06:17:36.950528",
     "exception": false,
     "start_time": "2021-03-26T06:17:36.898122",
     "status": "completed"
    },
    "tags": []
   },
   "source": [
    "Now let's do the count of data to get an idea about the distribution of helpfulness."
   ]
  },
  {
   "cell_type": "code",
   "execution_count": 13,
   "metadata": {
    "execution": {
     "iopub.execute_input": "2021-03-26T06:17:37.067575Z",
     "iopub.status.busy": "2021-03-26T06:17:37.066856Z",
     "iopub.status.idle": "2021-03-26T06:17:37.108289Z",
     "shell.execute_reply": "2021-03-26T06:17:37.107402Z"
    },
    "papermill": {
     "duration": 0.107305,
     "end_time": "2021-03-26T06:17:37.108488",
     "exception": false,
     "start_time": "2021-03-26T06:17:37.001183",
     "status": "completed"
    },
    "tags": []
   },
   "outputs": [
    {
     "name": "stdout",
     "output_type": "stream",
     "text": [
      "Count:\n"
     ]
    },
    {
     "data": {
      "text/html": [
       "<div>\n",
       "<style scoped>\n",
       "    .dataframe tbody tr th:only-of-type {\n",
       "        vertical-align: middle;\n",
       "    }\n",
       "\n",
       "    .dataframe tbody tr th {\n",
       "        vertical-align: top;\n",
       "    }\n",
       "\n",
       "    .dataframe thead th {\n",
       "        text-align: right;\n",
       "    }\n",
       "</style>\n",
       "<table border=\"1\" class=\"dataframe\">\n",
       "  <thead>\n",
       "    <tr style=\"text-align: right;\">\n",
       "      <th></th>\n",
       "      <th>overall</th>\n",
       "      <th>reviewText</th>\n",
       "      <th>helpful_numerator</th>\n",
       "      <th>helpful_denominator</th>\n",
       "    </tr>\n",
       "    <tr>\n",
       "      <th>Helpful</th>\n",
       "      <th></th>\n",
       "      <th></th>\n",
       "      <th></th>\n",
       "      <th></th>\n",
       "    </tr>\n",
       "  </thead>\n",
       "  <tbody>\n",
       "    <tr>\n",
       "      <th>0</th>\n",
       "      <td>10</td>\n",
       "      <td>10</td>\n",
       "      <td>10</td>\n",
       "      <td>10</td>\n",
       "    </tr>\n",
       "    <tr>\n",
       "      <th>1</th>\n",
       "      <td>216</td>\n",
       "      <td>216</td>\n",
       "      <td>216</td>\n",
       "      <td>216</td>\n",
       "    </tr>\n",
       "  </tbody>\n",
       "</table>\n",
       "</div>"
      ],
      "text/plain": [
       "         overall  reviewText  helpful_numerator  helpful_denominator\n",
       "Helpful                                                             \n",
       "0             10          10                 10                   10\n",
       "1            216         216                216                  216"
      ]
     },
     "metadata": {},
     "output_type": "display_data"
    }
   ],
   "source": [
    "#Check the balance\n",
    "print ('Count:')\n",
    "display(df1.groupby('Helpful').count())"
   ]
  },
  {
   "cell_type": "markdown",
   "metadata": {
    "papermill": {
     "duration": 0.052522,
     "end_time": "2021-03-26T06:17:37.215477",
     "exception": false,
     "start_time": "2021-03-26T06:17:37.162955",
     "status": "completed"
    },
    "tags": []
   },
   "source": [
    "Now let's see the whole data since we are going to creating our model."
   ]
  },
  {
   "cell_type": "code",
   "execution_count": 14,
   "metadata": {
    "execution": {
     "iopub.execute_input": "2021-03-26T06:17:37.344320Z",
     "iopub.status.busy": "2021-03-26T06:17:37.343262Z",
     "iopub.status.idle": "2021-03-26T06:17:37.352164Z",
     "shell.execute_reply": "2021-03-26T06:17:37.351379Z"
    },
    "papermill": {
     "duration": 0.083503,
     "end_time": "2021-03-26T06:17:37.352332",
     "exception": false,
     "start_time": "2021-03-26T06:17:37.268829",
     "status": "completed"
    },
    "tags": []
   },
   "outputs": [
    {
     "data": {
      "text/html": [
       "<div>\n",
       "<style scoped>\n",
       "    .dataframe tbody tr th:only-of-type {\n",
       "        vertical-align: middle;\n",
       "    }\n",
       "\n",
       "    .dataframe tbody tr th {\n",
       "        vertical-align: top;\n",
       "    }\n",
       "\n",
       "    .dataframe thead th {\n",
       "        text-align: right;\n",
       "    }\n",
       "</style>\n",
       "<table border=\"1\" class=\"dataframe\">\n",
       "  <thead>\n",
       "    <tr style=\"text-align: right;\">\n",
       "      <th></th>\n",
       "      <th>overall</th>\n",
       "      <th>reviewText</th>\n",
       "      <th>helpful_numerator</th>\n",
       "      <th>helpful_denominator</th>\n",
       "      <th>Helpful</th>\n",
       "    </tr>\n",
       "  </thead>\n",
       "  <tbody>\n",
       "    <tr>\n",
       "      <th>2</th>\n",
       "      <td>3</td>\n",
       "      <td>well what can i say ive had this unit in my tr...</td>\n",
       "      <td>43</td>\n",
       "      <td>45</td>\n",
       "      <td>1</td>\n",
       "    </tr>\n",
       "    <tr>\n",
       "      <th>211</th>\n",
       "      <td>3</td>\n",
       "      <td>i purchased this mount for my inch lcd tv inst...</td>\n",
       "      <td>70</td>\n",
       "      <td>92</td>\n",
       "      <td>1</td>\n",
       "    </tr>\n",
       "    <tr>\n",
       "      <th>221</th>\n",
       "      <td>5</td>\n",
       "      <td>do not listen to other reviewer screw that thi...</td>\n",
       "      <td>18</td>\n",
       "      <td>23</td>\n",
       "      <td>1</td>\n",
       "    </tr>\n",
       "    <tr>\n",
       "      <th>263</th>\n",
       "      <td>5</td>\n",
       "      <td>the nook tablet is a solid hybrid tabletebook ...</td>\n",
       "      <td>33</td>\n",
       "      <td>39</td>\n",
       "      <td>1</td>\n",
       "    </tr>\n",
       "    <tr>\n",
       "      <th>273</th>\n",
       "      <td>1</td>\n",
       "      <td>update sep put on cm android last week ive got...</td>\n",
       "      <td>52</td>\n",
       "      <td>57</td>\n",
       "      <td>1</td>\n",
       "    </tr>\n",
       "    <tr>\n",
       "      <th>...</th>\n",
       "      <td>...</td>\n",
       "      <td>...</td>\n",
       "      <td>...</td>\n",
       "      <td>...</td>\n",
       "      <td>...</td>\n",
       "    </tr>\n",
       "    <tr>\n",
       "      <th>3433</th>\n",
       "      <td>5</td>\n",
       "      <td>i use it to convert old tape to cd via compute...</td>\n",
       "      <td>39</td>\n",
       "      <td>40</td>\n",
       "      <td>1</td>\n",
       "    </tr>\n",
       "    <tr>\n",
       "      <th>3439</th>\n",
       "      <td>2</td>\n",
       "      <td>at first blush this unit look promising keepin...</td>\n",
       "      <td>23</td>\n",
       "      <td>24</td>\n",
       "      <td>1</td>\n",
       "    </tr>\n",
       "    <tr>\n",
       "      <th>3450</th>\n",
       "      <td>5</td>\n",
       "      <td>i dont understand all the negative review abou...</td>\n",
       "      <td>42</td>\n",
       "      <td>42</td>\n",
       "      <td>1</td>\n",
       "    </tr>\n",
       "    <tr>\n",
       "      <th>3479</th>\n",
       "      <td>5</td>\n",
       "      <td>it work clean and prefect what else can be sai...</td>\n",
       "      <td>19</td>\n",
       "      <td>23</td>\n",
       "      <td>1</td>\n",
       "    </tr>\n",
       "    <tr>\n",
       "      <th>3527</th>\n",
       "      <td>5</td>\n",
       "      <td>ok the first thing about this review i have a ...</td>\n",
       "      <td>84</td>\n",
       "      <td>93</td>\n",
       "      <td>1</td>\n",
       "    </tr>\n",
       "  </tbody>\n",
       "</table>\n",
       "<p>226 rows × 5 columns</p>\n",
       "</div>"
      ],
      "text/plain": [
       "      overall                                         reviewText  \\\n",
       "2           3  well what can i say ive had this unit in my tr...   \n",
       "211         3  i purchased this mount for my inch lcd tv inst...   \n",
       "221         5  do not listen to other reviewer screw that thi...   \n",
       "263         5  the nook tablet is a solid hybrid tabletebook ...   \n",
       "273         1  update sep put on cm android last week ive got...   \n",
       "...       ...                                                ...   \n",
       "3433        5  i use it to convert old tape to cd via compute...   \n",
       "3439        2  at first blush this unit look promising keepin...   \n",
       "3450        5  i dont understand all the negative review abou...   \n",
       "3479        5  it work clean and prefect what else can be sai...   \n",
       "3527        5  ok the first thing about this review i have a ...   \n",
       "\n",
       "      helpful_numerator  helpful_denominator  Helpful  \n",
       "2                    43                   45        1  \n",
       "211                  70                   92        1  \n",
       "221                  18                   23        1  \n",
       "263                  33                   39        1  \n",
       "273                  52                   57        1  \n",
       "...                 ...                  ...      ...  \n",
       "3433                 39                   40        1  \n",
       "3439                 23                   24        1  \n",
       "3450                 42                   42        1  \n",
       "3479                 19                   23        1  \n",
       "3527                 84                   93        1  \n",
       "\n",
       "[226 rows x 5 columns]"
      ]
     },
     "execution_count": 14,
     "metadata": {},
     "output_type": "execute_result"
    }
   ],
   "source": [
    "df1"
   ]
  },
  {
   "cell_type": "markdown",
   "metadata": {
    "papermill": {
     "duration": 0.059183,
     "end_time": "2021-03-26T06:17:37.467222",
     "exception": false,
     "start_time": "2021-03-26T06:17:37.408039",
     "status": "completed"
    },
    "tags": []
   },
   "source": [
    "Since we have already prepared the data above. We are now directly applying TF-IDF Vectorizer to generate more features.\n",
    "TF-IDF is an acronym of Term Frequency Inverse Document Frequency. It is a statistical measure used to find how important a word is to document in a collection or corpus. It is generally used in text mining and information retrieval.\n",
    "\n",
    "> TF: Term Frequency, which measures how frequently a term occurs in a document. Since every document is different in length, it may possible that a term would appear much more times in long documents than shorter ones. Thus, the term frequency is often divided by the document length (aka. the total number of terms in the document) as a way of normalization:\n",
    ">  \n",
    "> TF(t) = (Number of times term t appears in a document) / (Total number of terms in the document).\n",
    ">  \n",
    "> IDF: Inverse Document Frequency, which measures how important a term is. While computing TF, all terms are considered equally important. However, it is known that certain terms, such as \"is\", \"of\", and \"that\", may appear a lot of times but have little importance. Thus we need to weigh down the frequent terms while scaling up the rare ones, by computing the following:\n",
    ">  \n",
    "> IDF(t) = log_e(Total number of documents / Number of documents with term t in it).\n",
    "\n",
    "To get more information about TF-IDF see [here](http://www.tfidf.com/)."
   ]
  },
  {
   "cell_type": "code",
   "execution_count": 15,
   "metadata": {
    "execution": {
     "iopub.execute_input": "2021-03-26T06:17:37.600112Z",
     "iopub.status.busy": "2021-03-26T06:17:37.594654Z",
     "iopub.status.idle": "2021-03-26T06:18:00.575496Z",
     "shell.execute_reply": "2021-03-26T06:18:00.576180Z"
    },
    "papermill": {
     "duration": 23.054653,
     "end_time": "2021-03-26T06:18:00.576401",
     "exception": false,
     "start_time": "2021-03-26T06:17:37.521748",
     "status": "completed"
    },
    "tags": []
   },
   "outputs": [
    {
     "data": {
      "text/plain": [
       "<226x1695 sparse matrix of type '<class 'numpy.float64'>'\n",
       "\twith 23943 stored elements in Compressed Sparse Row format>"
      ]
     },
     "execution_count": 15,
     "metadata": {},
     "output_type": "execute_result"
    }
   ],
   "source": [
    "from sklearn.feature_extraction.text import TfidfVectorizer\n",
    "# define the vectorizer\n",
    "vectorizer = TfidfVectorizer(min_df = 0.01)\n",
    "# fit the vectorizers to the data.\n",
    "features = vectorizer.fit_transform(df1['reviewText'])\n",
    "features"
   ]
  },
  {
   "cell_type": "markdown",
   "metadata": {
    "papermill": {
     "duration": 0.05089,
     "end_time": "2021-03-26T06:18:00.681777",
     "exception": false,
     "start_time": "2021-03-26T06:18:00.630887",
     "status": "completed"
    },
    "tags": []
   },
   "source": [
    "Since we don't have a separate dataset for testing we are splitting data as 80% for training and 20% for testing."
   ]
  },
  {
   "cell_type": "code",
   "execution_count": 16,
   "metadata": {
    "execution": {
     "iopub.execute_input": "2021-03-26T06:18:00.794828Z",
     "iopub.status.busy": "2021-03-26T06:18:00.794064Z",
     "iopub.status.idle": "2021-03-26T06:18:00.844572Z",
     "shell.execute_reply": "2021-03-26T06:18:00.845189Z"
    },
    "papermill": {
     "duration": 0.109483,
     "end_time": "2021-03-26T06:18:00.845380",
     "exception": false,
     "start_time": "2021-03-26T06:18:00.735897",
     "status": "completed"
    },
    "tags": []
   },
   "outputs": [],
   "source": [
    "# split and shuffle data\n",
    "from sklearn.model_selection import train_test_split\n",
    "X_train, X_test, y_train, y_test = train_test_split(features,df1['Helpful'], test_size=0.2, random_state=RAN_STATE)"
   ]
  },
  {
   "cell_type": "markdown",
   "metadata": {
    "papermill": {
     "duration": 0.052499,
     "end_time": "2021-03-26T06:18:00.954567",
     "exception": false,
     "start_time": "2021-03-26T06:18:00.902068",
     "status": "completed"
    },
    "tags": []
   },
   "source": [
    "Since our problem is of binary classification(helpful or not helpful), we are using roc_auc_score to evaluate our model.\n",
    "\n",
    "The roc_auc_score computes the area under the receiver operating characteristic (ROC) curve which is also denoted by AUC or AUROC. By computing the area under the roc curve, the curve information is summarized in one number.\n",
    "\n",
    "This curve is created by plotting the true positive rate (TPR) against the false positive rate (FPR). The area under the curve is used to give a score to the model.\n",
    "> If AUC = 0.5 => TPR = FPR, and the model is doing just random computations.\n",
    ">\n",
    "> If AUC= 1.0 => TPR = 100%,and it is an ideal model.\n",
    "\n",
    "* True Positive: the truth is positive, and the test predicts a positive. e.g. The person is sick, and the test accurately reports this.\n",
    "* False Positive: the truth is negative, but the test predicts a positive. e.g. The person is not sick, but the test inaccurately reports that they are. It is also called a Type I error in statistics.\n",
    "\n",
    "For more information about roc_auc_score,see [here](https://scikit-learn.org/stable/modules/model_evaluation.html#roc-metrics).\n"
   ]
  },
  {
   "cell_type": "code",
   "execution_count": 17,
   "metadata": {
    "execution": {
     "iopub.execute_input": "2021-03-26T06:18:01.073041Z",
     "iopub.status.busy": "2021-03-26T06:18:01.072169Z",
     "iopub.status.idle": "2021-03-26T06:18:01.076679Z",
     "shell.execute_reply": "2021-03-26T06:18:01.075880Z"
    },
    "papermill": {
     "duration": 0.069923,
     "end_time": "2021-03-26T06:18:01.076839",
     "exception": false,
     "start_time": "2021-03-26T06:18:01.006916",
     "status": "completed"
    },
    "tags": []
   },
   "outputs": [],
   "source": [
    "from sklearn.metrics import roc_auc_score, roc_curve\n",
    "\n",
    "def train_classifier(clf, X_train, y_train):\n",
    "    ''' Fits a classifier to the training data. '''\n",
    "    \n",
    "    # Start the clock, train the classifier, then stop the clock\n",
    "    start = time()\n",
    "    clf.fit(X_train, y_train)\n",
    "    end = time()\n",
    "    \n",
    "    # Print the results\n",
    "    print (\"Trained model in {:.4f} seconds\".format(end - start))\n",
    "\n",
    "    \n",
    "def predict_labels(clf, features, target):\n",
    "    ''' Makes predictions using a fit classifier based on roc_auc score. '''\n",
    "    \n",
    "    # Start the clock, make predictions, then stop the clock\n",
    "    start = time()\n",
    "    probas = clf.predict_proba(features)\n",
    "    end = time()\n",
    "    \n",
    "    # Print and return results\n",
    "    print (\"Made predictions in {:.4f} seconds.\".format(end - start))\n",
    "    return roc_auc_score(target.values, probas[:,1].T)\n",
    "\n",
    "\n",
    "def train_predict(clf, X_train, y_train, X_test, y_test):\n",
    "    ''' Train and predict using a classifer based on roc_auc score. '''\n",
    "    \n",
    "    # Indicate the classifier and the training set size\n",
    "    print (\"Training a {} using a training set size of {}. . .\".format(clf.__class__.__name__, X_train.shape[0]))\n",
    "    \n",
    "    # Train the classifier\n",
    "    train_classifier(clf, X_train, y_train)\n",
    "    \n",
    "    # Print the results of prediction for both training and testing\n",
    "    print (\"ROC_AUC score for training set: {:.4f}.\".format(predict_labels(clf, X_train, y_train)))\n",
    "    print (\"ROC_AUC score for test set: {:.4f}.\\n\".format(predict_labels(clf, X_test, y_test)))\n",
    "    \n",
    "def clf_test_roc_score(clf, X_train, y_train, X_test, y_test):\n",
    "    clf.fit(X_train, y_train)\n",
    "    probas = probas =clf.predict_proba(X_test)\n",
    "    return roc_auc_score(y_test, probas[:,1].T)"
   ]
  },
  {
   "cell_type": "markdown",
   "metadata": {
    "papermill": {
     "duration": 0.050646,
     "end_time": "2021-03-26T06:18:01.182153",
     "exception": false,
     "start_time": "2021-03-26T06:18:01.131507",
     "status": "completed"
    },
    "tags": []
   },
   "source": [
    "To make a baseline model for our project we are going to use the following algorithms :\n",
    "\n",
    "* **GaussianNB**: GaussianNB implements the Gaussian Naive Bayes algorithm for classification. In Gaussian Naive Bayes, continuous values associated with each feature are assumed to be distributed according to a Gaussian distribution. \n",
    "A Gaussian distribution is also called Normal distribution. When plotted, it gives a bell-shaped curve that is symmetric about the mean of the feature values.\n",
    "<img src=\"https://imgur.com/nMRnwlL.png\" width=\"400px\">\n",
    "\n",
    "* **Logistic Regression**: Logistic regression, despite its name, is a linear model for classification rather than regression. Logistic regression is also known in the literature as logit regression, maximum-entropy classification (MaxEnt), or the log-linear classifier\n",
    "\n",
    "* **Decision tree**: DecisionTreeClassifier is a classifier capable of performing both binary and multi-class classification on a dataset. A Decision tree is a flowchart-like tree structure, where each internal node denotes a test on an attribute, each branch represents an outcome of the test, and each leaf node (terminal node) holds a class label.\n",
    "\n",
    "All the algorithms used here are popular algorithms for classification. However, since we are doing binary classification, I think *Logistic Regression* would give better results than *Decision tree* or *Gaussian Naive Bayes*.\n",
    "\n",
    "For more information, see [here](https://scikit-learn.org/stable/supervised_learning.html)."
   ]
  },
  {
   "cell_type": "code",
   "execution_count": 18,
   "metadata": {
    "execution": {
     "iopub.execute_input": "2021-03-26T06:18:01.377284Z",
     "iopub.status.busy": "2021-03-26T06:18:01.376159Z",
     "iopub.status.idle": "2021-03-26T06:25:20.975310Z",
     "shell.execute_reply": "2021-03-26T06:25:20.974721Z"
    },
    "papermill": {
     "duration": 439.738957,
     "end_time": "2021-03-26T06:25:20.975491",
     "exception": false,
     "start_time": "2021-03-26T06:18:01.236534",
     "status": "completed"
    },
    "tags": []
   },
   "outputs": [
    {
     "name": "stdout",
     "output_type": "stream",
     "text": [
      "Training a GaussianNB using a training set size of 180. . .\n",
      "Trained model in 0.0050 seconds\n",
      "Made predictions in 0.0070 seconds.\n",
      "ROC_AUC score for training set: 1.0000.\n",
      "Made predictions in 0.0020 seconds.\n",
      "ROC_AUC score for test set: 0.5000.\n",
      "\n",
      "Training a GaussianNB using a training set size of 180. . .\n",
      "Trained model in 0.0050 seconds\n",
      "Made predictions in 0.0060 seconds.\n",
      "ROC_AUC score for training set: 1.0000.\n",
      "Made predictions in 0.0010 seconds.\n",
      "ROC_AUC score for test set: 0.5000.\n",
      "\n",
      "Training a GaussianNB using a training set size of 180. . .\n",
      "Trained model in 0.0040 seconds\n",
      "Made predictions in 0.0060 seconds.\n",
      "ROC_AUC score for training set: 1.0000.\n",
      "Made predictions in 0.0010 seconds.\n",
      "ROC_AUC score for test set: 0.5000.\n",
      "\n",
      "Training a LogisticRegression using a training set size of 180. . .\n",
      "Trained model in 0.0708 seconds\n",
      "Made predictions in 0.0010 seconds.\n",
      "ROC_AUC score for training set: 1.0000.\n",
      "Made predictions in 0.0010 seconds.\n",
      "ROC_AUC score for test set: 0.9464.\n",
      "\n",
      "Training a LogisticRegression using a training set size of 180. . .\n",
      "Trained model in 0.0070 seconds\n",
      "Made predictions in 0.0000 seconds.\n",
      "ROC_AUC score for training set: 1.0000.\n",
      "Made predictions in 0.0000 seconds.\n",
      "ROC_AUC score for test set: 0.9464.\n",
      "\n",
      "Training a LogisticRegression using a training set size of 180. . .\n",
      "Trained model in 0.0100 seconds\n",
      "Made predictions in 0.0000 seconds.\n",
      "ROC_AUC score for training set: 1.0000.\n",
      "Made predictions in 0.0010 seconds.\n",
      "ROC_AUC score for test set: 0.9464.\n",
      "\n",
      "Training a DecisionTreeClassifier using a training set size of 180. . .\n",
      "Trained model in 0.0100 seconds\n",
      "Made predictions in 0.0010 seconds.\n",
      "ROC_AUC score for training set: 1.0000.\n",
      "Made predictions in 0.0000 seconds.\n",
      "ROC_AUC score for test set: 0.4881.\n",
      "\n",
      "Training a DecisionTreeClassifier using a training set size of 180. . .\n",
      "Trained model in 0.0090 seconds\n",
      "Made predictions in 0.0010 seconds.\n",
      "ROC_AUC score for training set: 1.0000.\n",
      "Made predictions in 0.0010 seconds.\n",
      "ROC_AUC score for test set: 0.4881.\n",
      "\n",
      "Training a DecisionTreeClassifier using a training set size of 180. . .\n",
      "Trained model in 0.0090 seconds\n",
      "Made predictions in 0.0010 seconds.\n",
      "ROC_AUC score for training set: 1.0000.\n",
      "Made predictions in 0.0010 seconds.\n",
      "ROC_AUC score for test set: 0.4881.\n",
      "\n"
     ]
    }
   ],
   "source": [
    "# Import the supervised learning models from sklearn\n",
    "from sklearn.naive_bayes import GaussianNB\n",
    "from sklearn.linear_model import LogisticRegression\n",
    "from sklearn.tree import DecisionTreeClassifier\n",
    "\n",
    "\n",
    "# Initialize the models using a random state were applicable.\n",
    "clf_list = [GaussianNB(),  \n",
    "            LogisticRegression(random_state = RAN_STATE),\n",
    "            DecisionTreeClassifier(random_state = RAN_STATE)]\n",
    "x_tr = X_train.toarray()\n",
    "x_te = X_test.toarray()\n",
    "\n",
    "\n",
    "# Set up the training set sizes for 10000, 20000 and 40000 respectively.\n",
    "train_feature_list = [x_tr[0:10000],x_tr[0:20000],x_tr]\n",
    "train_target_list = [y_train[0:10000], y_train[0:20000], y_train]\n",
    "\n",
    "\n",
    "# Execute the 'train_predict' function for each of the classifiers and each training set size\n",
    "for clf in clf_list:\n",
    "    for a, b in zip(train_feature_list, train_target_list):\n",
    "        train_predict(clf, a, b, x_te, y_test)"
   ]
  },
  {
   "cell_type": "markdown",
   "metadata": {
    "papermill": {
     "duration": 0.057812,
     "end_time": "2021-03-26T06:25:21.091789",
     "exception": false,
     "start_time": "2021-03-26T06:25:21.033977",
     "status": "completed"
    },
    "tags": []
   },
   "source": [
    "It's a hassle to find each value. So let's just visualize the outputs for all models."
   ]
  },
  {
   "cell_type": "code",
   "execution_count": 19,
   "metadata": {
    "execution": {
     "iopub.execute_input": "2021-03-26T06:25:21.218114Z",
     "iopub.status.busy": "2021-03-26T06:25:21.217460Z",
     "iopub.status.idle": "2021-03-26T06:32:37.813509Z",
     "shell.execute_reply": "2021-03-26T06:32:37.812913Z"
    },
    "papermill": {
     "duration": 436.663621,
     "end_time": "2021-03-26T06:32:37.813677",
     "exception": false,
     "start_time": "2021-03-26T06:25:21.150056",
     "status": "completed"
    },
    "tags": []
   },
   "outputs": [
    {
     "data": {
      "image/png": "[encoded data removed]",
      "text/plain": [
       "<Figure size 432x288 with 1 Axes>"
      ]
     },
     "metadata": {
      "needs_background": "light"
     },
     "output_type": "display_data"
    },
    {
     "data": {
      "text/plain": [
       "<Figure size 1008x576 with 0 Axes>"
      ]
     },
     "metadata": {},
     "output_type": "display_data"
    }
   ],
   "source": [
    "FIG_SIZE = (14,8)\n",
    "# Visualize all of the classifiers                                                               \n",
    "for clf in clf_list:\n",
    "    x_graph = []\n",
    "    y_graph = []\n",
    "    for a, b in zip(train_feature_list, train_target_list):\n",
    "        y_graph.append(clf_test_roc_score(clf, a, b, x_te, y_test))\n",
    "        x_graph.append(len(a))\n",
    "    plt.scatter(x_graph,y_graph)\n",
    "    plt.plot(x_graph,y_graph, label = clf.__class__.__name__)\n",
    "\n",
    "plt.title('Comparison of Different Classifiers')\n",
    "plt.xlabel('Training Size')\n",
    "plt.ylabel('ROC_AUC score on test set')\n",
    "plt.legend(bbox_to_anchor=(1.6, 1.05))\n",
    "plt.figure(figsize=FIG_SIZE)             \n",
    "plt.show() "
   ]
  },
  {
   "cell_type": "markdown",
   "metadata": {
    "papermill": {
     "duration": 0.05838,
     "end_time": "2021-03-26T06:32:37.932911",
     "exception": false,
     "start_time": "2021-03-26T06:32:37.874531",
     "status": "completed"
    },
    "tags": []
   },
   "source": [
    "Just as we thought Logistic Regression gives us the best accuracy. Its final score for the area under the ROC curve was 0.8704 and a sample size of ~40,000. Besides, it is the fastest. The training speed and prediction speed were 19.993s and 0.955s  for a sample size of 40,000. Since our model has to consider the accuracy and speed, the Logistic Regression algorithm represents the ideal model for us.\n",
    "\n",
    "Now, let's add values of scores to the review text and see if we can increase the accuracy of our model."
   ]
  },
  {
   "cell_type": "code",
   "execution_count": 20,
   "metadata": {
    "execution": {
     "iopub.execute_input": "2021-03-26T06:32:38.082751Z",
     "iopub.status.busy": "2021-03-26T06:32:38.071025Z",
     "iopub.status.idle": "2021-03-26T06:32:38.678174Z",
     "shell.execute_reply": "2021-03-26T06:32:38.677395Z"
    },
    "papermill": {
     "duration": 0.682578,
     "end_time": "2021-03-26T06:32:38.678330",
     "exception": false,
     "start_time": "2021-03-26T06:32:37.995752",
     "status": "completed"
    },
    "tags": []
   },
   "outputs": [
    {
     "data": {
      "text/plain": [
       "<226x1696 sparse matrix of type '<class 'numpy.float64'>'\n",
       "\twith 24169 stored elements in Compressed Sparse Row format>"
      ]
     },
     "execution_count": 20,
     "metadata": {},
     "output_type": "execute_result"
    }
   ],
   "source": [
    "#add Score column to features\n",
    "import scipy as scipy\n",
    "\n",
    "overall = np.array(list(df1.overall))\n",
    "overall = overall.reshape(features.shape[0], 1)\n",
    "\n",
    "features = scipy.sparse.hstack((features,scipy.sparse.csr_matrix(overall)))\n",
    "\n",
    "features = scipy.sparse.csr_matrix(features)\n",
    "features\n"
   ]
  },
  {
   "cell_type": "markdown",
   "metadata": {
    "papermill": {
     "duration": 0.060039,
     "end_time": "2021-03-26T06:32:38.797441",
     "exception": false,
     "start_time": "2021-03-26T06:32:38.737402",
     "status": "completed"
    },
    "tags": []
   },
   "source": [
    "We can now split the dataset and try to optimize our initial model."
   ]
  },
  {
   "cell_type": "code",
   "execution_count": 21,
   "metadata": {
    "execution": {
     "iopub.execute_input": "2021-03-26T06:32:38.924932Z",
     "iopub.status.busy": "2021-03-26T06:32:38.924195Z",
     "iopub.status.idle": "2021-03-26T06:32:38.969203Z",
     "shell.execute_reply": "2021-03-26T06:32:38.969897Z"
    },
    "papermill": {
     "duration": 0.113115,
     "end_time": "2021-03-26T06:32:38.970093",
     "exception": false,
     "start_time": "2021-03-26T06:32:38.856978",
     "status": "completed"
    },
    "tags": []
   },
   "outputs": [],
   "source": [
    "X_train2, X_test2, y_train, y_test = train_test_split(features, df1['Helpful'], test_size=0.2, random_state=RAN_STATE)"
   ]
  },
  {
   "cell_type": "markdown",
   "metadata": {
    "papermill": {
     "duration": 0.06232,
     "end_time": "2021-03-26T06:32:39.092145",
     "exception": false,
     "start_time": "2021-03-26T06:32:39.029825",
     "status": "completed"
    },
    "tags": []
   },
   "source": [
    "Hyper-parameters are parameters that are not directly learned within estimators. In scikit-learn, they are passed as arguments to the constructor of the estimator classes. Hyperparameter tuning helps us in optimizing our model.\n",
    "For more information see [here](https://scikit-learn.org/stable/modules/grid_search.html#grid-search).\n",
    "\n",
    "We will now be applying Gridsearch and Cross-Validation techniques to optimize and hypertune our model.\n",
    "\n",
    "* **GridSearch:** Exhaustive search over specified parameter values for an estimator.\n",
    "\n",
    "* **Cross-Validation:** In the train-test split, we use only 20% for testing. The performance metric we get on that 20% test data may not be accurate. So Cross-Validation allows you to consume 100% of the data for training and testing both.\n",
    " \n",
    "For more information see [here](https://scikit-learn.org/stable/modules/classes.html#module-sklearn.model_selection)"
   ]
  },
  {
   "cell_type": "code",
   "execution_count": 22,
   "metadata": {
    "execution": {
     "iopub.execute_input": "2021-03-26T06:32:39.225987Z",
     "iopub.status.busy": "2021-03-26T06:32:39.225288Z",
     "iopub.status.idle": "2021-03-26T06:35:09.525123Z",
     "shell.execute_reply": "2021-03-26T06:35:09.525923Z"
    },
    "papermill": {
     "duration": 150.371985,
     "end_time": "2021-03-26T06:35:09.526206",
     "exception": false,
     "start_time": "2021-03-26T06:32:39.154221",
     "status": "completed"
    },
    "tags": []
   },
   "outputs": [
    {
     "name": "stdout",
     "output_type": "stream",
     "text": [
      "Fitting grid search...\n",
      "Grid search fitted.\n"
     ]
    }
   ],
   "source": [
    "from sklearn.model_selection import GridSearchCV,cross_validate,StratifiedKFold\n",
    "#make the grid search object\n",
    "gs2 = GridSearchCV(\n",
    "    estimator=LogisticRegression(),\n",
    "    param_grid={'C': [10**i for i in range(-5,5)], 'class_weight': [None, 'balanced']},\n",
    "    cv=StratifiedKFold(n_splits=5),\n",
    "    scoring='roc_auc'\n",
    ")\n",
    "\n",
    "#fit the grid search object to our new dataset\n",
    "print ('Fitting grid search...')\n",
    "gs2.fit(X_train2, y_train)\n",
    "print (\"Grid search fitted.\")"
   ]
  },
  {
   "cell_type": "markdown",
   "metadata": {
    "papermill": {
     "duration": 0.063403,
     "end_time": "2021-03-26T06:35:09.654915",
     "exception": false,
     "start_time": "2021-03-26T06:35:09.591512",
     "status": "completed"
    },
    "tags": []
   },
   "source": [
    "Let's the best estimator for our model."
   ]
  },
  {
   "cell_type": "code",
   "execution_count": 23,
   "metadata": {
    "execution": {
     "iopub.execute_input": "2021-03-26T06:35:09.789821Z",
     "iopub.status.busy": "2021-03-26T06:35:09.788966Z",
     "iopub.status.idle": "2021-03-26T06:35:09.794188Z",
     "shell.execute_reply": "2021-03-26T06:35:09.793395Z"
    },
    "papermill": {
     "duration": 0.074277,
     "end_time": "2021-03-26T06:35:09.794355",
     "exception": false,
     "start_time": "2021-03-26T06:35:09.720078",
     "status": "completed"
    },
    "tags": []
   },
   "outputs": [
    {
     "data": {
      "text/plain": [
       "{'C': 1e-05, 'class_weight': None}"
      ]
     },
     "execution_count": 23,
     "metadata": {},
     "output_type": "execute_result"
    }
   ],
   "source": [
    "#print the grid search scores.\n",
    "gs2.best_params_"
   ]
  },
  {
   "cell_type": "markdown",
   "metadata": {
    "papermill": {
     "duration": 0.064395,
     "end_time": "2021-03-26T06:35:09.921117",
     "exception": false,
     "start_time": "2021-03-26T06:35:09.856722",
     "status": "completed"
    },
    "tags": []
   },
   "source": [
    "We can see our optimized classifier is a LogisticRession with a 'C' parameter of 1 and a 'class_weight' = 'None'. This is the same as default, meaning our optimization step did not change the parameters of our model. Let's now find our ROC_AUC Score."
   ]
  },
  {
   "cell_type": "code",
   "execution_count": 24,
   "metadata": {
    "execution": {
     "iopub.execute_input": "2021-03-26T06:35:10.057198Z",
     "iopub.status.busy": "2021-03-26T06:35:10.056024Z",
     "iopub.status.idle": "2021-03-26T06:35:10.073020Z",
     "shell.execute_reply": "2021-03-26T06:35:10.072028Z"
    },
    "papermill": {
     "duration": 0.084388,
     "end_time": "2021-03-26T06:35:10.073208",
     "exception": false,
     "start_time": "2021-03-26T06:35:09.988820",
     "status": "completed"
    },
    "tags": []
   },
   "outputs": [
    {
     "name": "stdout",
     "output_type": "stream",
     "text": [
      "ROC_AUC Score: 0.9880952380952381\n"
     ]
    }
   ],
   "source": [
    "clf2 = gs2.best_estimator_\n",
    "probas =clf2.predict_proba(X_test2)\n",
    "\n",
    "\n",
    "# ROC/AUC score\n",
    "print ('ROC_AUC Score:',roc_auc_score(y_test, probas[:,1].T))"
   ]
  },
  {
   "cell_type": "markdown",
   "metadata": {
    "papermill": {
     "duration": 0.068171,
     "end_time": "2021-03-26T06:35:10.210038",
     "exception": false,
     "start_time": "2021-03-26T06:35:10.141867",
     "status": "completed"
    },
    "tags": []
   },
   "source": [
    "Wow! 90 % ROC_AUC Score. That means our model has been trained well.\n",
    "\n",
    "Let's now plot the graph to find the ROC Curve for Helpful Rating of both TFIDF and TFIDF along with the overall score. "
   ]
  },
  {
   "cell_type": "code",
   "execution_count": 25,
   "metadata": {
    "execution": {
     "iopub.execute_input": "2021-03-26T06:35:10.352276Z",
     "iopub.status.busy": "2021-03-26T06:35:10.351063Z",
     "iopub.status.idle": "2021-03-26T06:35:12.967344Z",
     "shell.execute_reply": "2021-03-26T06:35:12.966762Z"
    },
    "papermill": {
     "duration": 2.692787,
     "end_time": "2021-03-26T06:35:12.967515",
     "exception": false,
     "start_time": "2021-03-26T06:35:10.274728",
     "status": "completed"
    },
    "tags": []
   },
   "outputs": [
    {
     "data": {
      "image/png": "[encoded data removed]",
      "text/plain": [
       "<Figure size 1008x576 with 1 Axes>"
      ]
     },
     "metadata": {
      "needs_background": "light"
     },
     "output_type": "display_data"
    },
    {
     "data": {
      "text/plain": [
       "<Figure size 1008x576 with 0 Axes>"
      ]
     },
     "metadata": {},
     "output_type": "display_data"
    }
   ],
   "source": [
    "\n",
    "clf = LogisticRegression()\n",
    "clf.fit(X_train,y_train)\n",
    "probas = clf.predict_proba(X_test)\n",
    "clf2 = gs2.best_estimator_\n",
    "probas2 =clf2.predict_proba(X_test2)\n",
    "plt.figure(figsize = FIG_SIZE)\n",
    "\n",
    "# plot graph to show roc_auc_score.\n",
    "plt.plot(roc_curve(y_test, probas[:,1])[0], roc_curve(y_test, probas[:,1])[1], label = 'TFIDF')\n",
    "plt.plot(roc_curve(y_test, probas2[:,1])[0], roc_curve(y_test, probas2[:,1])[1], label = 'TFIDF + overall')\n",
    "plt.title('ROC Curve for Helpful Rating')\n",
    "plt.grid()\n",
    "plt.xlabel('False Positive Rate (1 - Specificity)')\n",
    "plt.ylabel('True Positive Rate (Sensitivity)')\n",
    "\n",
    "plt.legend(bbox_to_anchor=(1.0, .5))\n",
    "plt.figure(figsize=FIG_SIZE)\n",
    "plt.show()"
   ]
  },
  {
   "cell_type": "markdown",
   "metadata": {
    "papermill": {
     "duration": 0.066603,
     "end_time": "2021-03-26T06:35:13.100985",
     "exception": false,
     "start_time": "2021-03-26T06:35:13.034382",
     "status": "completed"
    },
    "tags": []
   },
   "source": [
    "As we can see in the above ROC Curve, adding an overall score to TFIDF vectors would give us a higher Area Under Curve(AUC)."
   ]
  },
  {
   "cell_type": "markdown",
   "metadata": {
    "papermill": {
     "duration": 0.070049,
     "end_time": "2021-03-26T06:35:13.235054",
     "exception": false,
     "start_time": "2021-03-26T06:35:13.165005",
     "status": "completed"
    },
    "tags": []
   },
   "source": [
    "Conclusion:\n",
    "--\n",
    "The important quality of this problem statement is the effect of introducing a new key feature to our model. Here, we mainly looked at the TFIDF features generated from Amazon's Electronic Reviews text and added the 'overall_rating' (star rating) that was given to the product by the reviewer. We used these features to predict how 'helpful' other users would find the review."
   ]
  },
  {
   "cell_type": "markdown",
   "metadata": {
    "papermill": {
     "duration": 0.068264,
     "end_time": "2021-03-26T06:35:13.372969",
     "exception": false,
     "start_time": "2021-03-26T06:35:13.304705",
     "status": "completed"
    },
    "tags": []
   },
   "source": [
    "# Problem Statement 2"
   ]
  },
  {
   "cell_type": "markdown",
   "metadata": {
    "papermill": {
     "duration": 0.06637,
     "end_time": "2021-03-26T06:35:13.508451",
     "exception": false,
     "start_time": "2021-03-26T06:35:13.442081",
     "status": "completed"
    },
    "tags": []
   },
   "source": [
    "A Rough Overview\n",
    "--\n",
    "Marketing is an essential part of the business. Digital marketing was already in hype for the past few years but due to this pandemic, it has increased exponentially. Since a customer cannot physically check the product, he/she has to depend on reviews of the given product. \n",
    "\n",
    "Despite this there are some people who do not give genuine review or give a sarcastic review.\n",
    "\n",
    "Here are some examples:\n",
    "\n",
    "<img src=\"https://imgur.com/Dbxy4Ck.jpeg\" width=\"400px\">\n",
    "\n",
    "<img src=\"https://imgur.com/QWuvHhN.jpeg\" width=\"400px\">\n",
    "\n",
    "Having such reviews displayed in forums hurts Amazon’s business since the major reason as stated above is that people are willing to buy consumer goods online without seeing the items themselves because they have access to other people's opinions of the item. "
   ]
  },
  {
   "cell_type": "markdown",
   "metadata": {
    "papermill": {
     "duration": 0.067433,
     "end_time": "2021-03-26T06:35:13.646007",
     "exception": false,
     "start_time": "2021-03-26T06:35:13.578574",
     "status": "completed"
    },
    "tags": []
   },
   "source": [
    "Problem Statement\n",
    "--\n",
    "The problem that is being addressed here is if Amazon Review is fake or not genuine. Sometimes some people give fake reviews on forums. This could harm the sale of the product if such a review came on top. \n",
    "\n",
    "By fake review I mean which is given a 5-star rating but in review text, the person gives a negative review and since it is rated 5 stars, so chances are that review would come on top of the forum. \n",
    "\n",
    "The possibility exists that such reviews be given by competitors to harm the sale of the product.\n",
    "\n",
    "The solution to this problem is to create a model using machine learning techniques that would classify given customer reviews based on sentiment analysis before they are posted on the top of the forum. This way fake reviews would not be shown on top of forums.\n",
    "\n",
    "The model will be trained on Amazon Reviews for Electronic Category to classify if a given review is genuine or not."
   ]
  },
  {
   "cell_type": "markdown",
   "metadata": {
    "papermill": {
     "duration": 0.065219,
     "end_time": "2021-03-26T06:35:13.776034",
     "exception": false,
     "start_time": "2021-03-26T06:35:13.710815",
     "status": "completed"
    },
    "tags": []
   },
   "source": [
    "Let's see the given data."
   ]
  },
  {
   "cell_type": "code",
   "execution_count": 26,
   "metadata": {
    "execution": {
     "iopub.execute_input": "2021-03-26T06:35:13.925858Z",
     "iopub.status.busy": "2021-03-26T06:35:13.925038Z",
     "iopub.status.idle": "2021-03-26T06:35:13.930739Z",
     "shell.execute_reply": "2021-03-26T06:35:13.930163Z"
    },
    "papermill": {
     "duration": 0.089067,
     "end_time": "2021-03-26T06:35:13.930910",
     "exception": false,
     "start_time": "2021-03-26T06:35:13.841843",
     "status": "completed"
    },
    "tags": []
   },
   "outputs": [
    {
     "data": {
      "text/html": [
       "<div>\n",
       "<style scoped>\n",
       "    .dataframe tbody tr th:only-of-type {\n",
       "        vertical-align: middle;\n",
       "    }\n",
       "\n",
       "    .dataframe tbody tr th {\n",
       "        vertical-align: top;\n",
       "    }\n",
       "\n",
       "    .dataframe thead th {\n",
       "        text-align: right;\n",
       "    }\n",
       "</style>\n",
       "<table border=\"1\" class=\"dataframe\">\n",
       "  <thead>\n",
       "    <tr style=\"text-align: right;\">\n",
       "      <th></th>\n",
       "      <th>reviewerID</th>\n",
       "      <th>asin</th>\n",
       "      <th>reviewerName</th>\n",
       "      <th>helpful</th>\n",
       "      <th>reviewText</th>\n",
       "      <th>overall</th>\n",
       "      <th>summary</th>\n",
       "      <th>unixReviewTime</th>\n",
       "      <th>reviewTime</th>\n",
       "    </tr>\n",
       "  </thead>\n",
       "  <tbody>\n",
       "    <tr>\n",
       "      <th>0</th>\n",
       "      <td>AO94DHGC771SJ</td>\n",
       "      <td>0528881469</td>\n",
       "      <td>amazdnu</td>\n",
       "      <td>[0, 0]</td>\n",
       "      <td>we got this gps for my husband who is an otr o...</td>\n",
       "      <td>5</td>\n",
       "      <td>Gotta have GPS!</td>\n",
       "      <td>1370131200</td>\n",
       "      <td>06 2, 2013</td>\n",
       "    </tr>\n",
       "    <tr>\n",
       "      <th>1</th>\n",
       "      <td>AMO214LNFCEI4</td>\n",
       "      <td>0528881469</td>\n",
       "      <td>Amazon Customer</td>\n",
       "      <td>[12, 15]</td>\n",
       "      <td>im a professional otr truck driver and i bough...</td>\n",
       "      <td>1</td>\n",
       "      <td>Very Disappointed</td>\n",
       "      <td>1290643200</td>\n",
       "      <td>11 25, 2010</td>\n",
       "    </tr>\n",
       "    <tr>\n",
       "      <th>2</th>\n",
       "      <td>A3N7T0DY83Y4IG</td>\n",
       "      <td>0528881469</td>\n",
       "      <td>C. A. Freeman</td>\n",
       "      <td>[43, 45]</td>\n",
       "      <td>well what can i say ive had this unit in my tr...</td>\n",
       "      <td>3</td>\n",
       "      <td>1st impression</td>\n",
       "      <td>1283990400</td>\n",
       "      <td>09 9, 2010</td>\n",
       "    </tr>\n",
       "    <tr>\n",
       "      <th>3</th>\n",
       "      <td>A1H8PY3QHMQQA0</td>\n",
       "      <td>0528881469</td>\n",
       "      <td>Dave M. Shaw \"mack dave\"</td>\n",
       "      <td>[9, 10]</td>\n",
       "      <td>not going to write a long review even thought ...</td>\n",
       "      <td>2</td>\n",
       "      <td>Great grafics, POOR GPS</td>\n",
       "      <td>1290556800</td>\n",
       "      <td>11 24, 2010</td>\n",
       "    </tr>\n",
       "    <tr>\n",
       "      <th>4</th>\n",
       "      <td>A24EV6RXELQZ63</td>\n",
       "      <td>0528881469</td>\n",
       "      <td>Wayne Smith</td>\n",
       "      <td>[0, 0]</td>\n",
       "      <td>ive had mine for a year and here what we got i...</td>\n",
       "      <td>1</td>\n",
       "      <td>Major issues, only excuses for support</td>\n",
       "      <td>1317254400</td>\n",
       "      <td>09 29, 2011</td>\n",
       "    </tr>\n",
       "  </tbody>\n",
       "</table>\n",
       "</div>"
      ],
      "text/plain": [
       "       reviewerID        asin              reviewerName   helpful  \\\n",
       "0   AO94DHGC771SJ  0528881469                   amazdnu    [0, 0]   \n",
       "1   AMO214LNFCEI4  0528881469           Amazon Customer  [12, 15]   \n",
       "2  A3N7T0DY83Y4IG  0528881469             C. A. Freeman  [43, 45]   \n",
       "3  A1H8PY3QHMQQA0  0528881469  Dave M. Shaw \"mack dave\"   [9, 10]   \n",
       "4  A24EV6RXELQZ63  0528881469               Wayne Smith    [0, 0]   \n",
       "\n",
       "                                          reviewText  overall  \\\n",
       "0  we got this gps for my husband who is an otr o...        5   \n",
       "1  im a professional otr truck driver and i bough...        1   \n",
       "2  well what can i say ive had this unit in my tr...        3   \n",
       "3  not going to write a long review even thought ...        2   \n",
       "4  ive had mine for a year and here what we got i...        1   \n",
       "\n",
       "                                  summary  unixReviewTime   reviewTime  \n",
       "0                         Gotta have GPS!      1370131200   06 2, 2013  \n",
       "1                       Very Disappointed      1290643200  11 25, 2010  \n",
       "2                          1st impression      1283990400   09 9, 2010  \n",
       "3                 Great grafics, POOR GPS      1290556800  11 24, 2010  \n",
       "4  Major issues, only excuses for support      1317254400  09 29, 2011  "
      ]
     },
     "execution_count": 26,
     "metadata": {},
     "output_type": "execute_result"
    }
   ],
   "source": [
    "data.head()"
   ]
  },
  {
   "cell_type": "markdown",
   "metadata": {
    "papermill": {
     "duration": 0.065732,
     "end_time": "2021-03-26T06:35:14.062327",
     "exception": false,
     "start_time": "2021-03-26T06:35:13.996595",
     "status": "completed"
    },
    "tags": []
   },
   "source": [
    "Here, we are going to select **reviewText** and **overall** score rating since we going to classify reviews based on these two features."
   ]
  },
  {
   "cell_type": "code",
   "execution_count": 27,
   "metadata": {
    "execution": {
     "iopub.execute_input": "2021-03-26T06:35:14.207339Z",
     "iopub.status.busy": "2021-03-26T06:35:14.206599Z",
     "iopub.status.idle": "2021-03-26T06:35:14.712280Z",
     "shell.execute_reply": "2021-03-26T06:35:14.710619Z"
    },
    "papermill": {
     "duration": 0.581176,
     "end_time": "2021-03-26T06:35:14.712487",
     "exception": false,
     "start_time": "2021-03-26T06:35:14.131311",
     "status": "completed"
    },
    "tags": []
   },
   "outputs": [
    {
     "data": {
      "text/html": [
       "<div>\n",
       "<style scoped>\n",
       "    .dataframe tbody tr th:only-of-type {\n",
       "        vertical-align: middle;\n",
       "    }\n",
       "\n",
       "    .dataframe tbody tr th {\n",
       "        vertical-align: top;\n",
       "    }\n",
       "\n",
       "    .dataframe thead th {\n",
       "        text-align: right;\n",
       "    }\n",
       "</style>\n",
       "<table border=\"1\" class=\"dataframe\">\n",
       "  <thead>\n",
       "    <tr style=\"text-align: right;\">\n",
       "      <th></th>\n",
       "      <th>overall</th>\n",
       "      <th>reviewText</th>\n",
       "    </tr>\n",
       "  </thead>\n",
       "  <tbody>\n",
       "    <tr>\n",
       "      <th>0</th>\n",
       "      <td>5</td>\n",
       "      <td>we got this gps for my husband who is an otr o...</td>\n",
       "    </tr>\n",
       "    <tr>\n",
       "      <th>1</th>\n",
       "      <td>1</td>\n",
       "      <td>im a professional otr truck driver and i bough...</td>\n",
       "    </tr>\n",
       "    <tr>\n",
       "      <th>2</th>\n",
       "      <td>3</td>\n",
       "      <td>well what can i say ive had this unit in my tr...</td>\n",
       "    </tr>\n",
       "    <tr>\n",
       "      <th>3</th>\n",
       "      <td>2</td>\n",
       "      <td>not going to write a long review even thought ...</td>\n",
       "    </tr>\n",
       "    <tr>\n",
       "      <th>4</th>\n",
       "      <td>1</td>\n",
       "      <td>ive had mine for a year and here what we got i...</td>\n",
       "    </tr>\n",
       "    <tr>\n",
       "      <th>5</th>\n",
       "      <td>5</td>\n",
       "      <td>i am using this with a nook hd it work a descr...</td>\n",
       "    </tr>\n",
       "    <tr>\n",
       "      <th>6</th>\n",
       "      <td>2</td>\n",
       "      <td>the cable is very wobbly and sometimes disconn...</td>\n",
       "    </tr>\n",
       "    <tr>\n",
       "      <th>7</th>\n",
       "      <td>5</td>\n",
       "      <td>this adaptor is real easy to setup and use rig...</td>\n",
       "    </tr>\n",
       "    <tr>\n",
       "      <th>8</th>\n",
       "      <td>4</td>\n",
       "      <td>this adapter easily connects my nook hd to my ...</td>\n",
       "    </tr>\n",
       "    <tr>\n",
       "      <th>9</th>\n",
       "      <td>5</td>\n",
       "      <td>this product really work great but i found the...</td>\n",
       "    </tr>\n",
       "  </tbody>\n",
       "</table>\n",
       "</div>"
      ],
      "text/plain": [
       "   overall                                         reviewText\n",
       "0        5  we got this gps for my husband who is an otr o...\n",
       "1        1  im a professional otr truck driver and i bough...\n",
       "2        3  well what can i say ive had this unit in my tr...\n",
       "3        2  not going to write a long review even thought ...\n",
       "4        1  ive had mine for a year and here what we got i...\n",
       "5        5  i am using this with a nook hd it work a descr...\n",
       "6        2  the cable is very wobbly and sometimes disconn...\n",
       "7        5  this adaptor is real easy to setup and use rig...\n",
       "8        4  this adapter easily connects my nook hd to my ...\n",
       "9        5  this product really work great but i found the..."
      ]
     },
     "execution_count": 27,
     "metadata": {},
     "output_type": "execute_result"
    }
   ],
   "source": [
    "#select the columns\n",
    "df2 = data.iloc[:, [5,4]]\n",
    "df2.head(10)"
   ]
  },
  {
   "cell_type": "markdown",
   "metadata": {
    "papermill": {
     "duration": 0.067488,
     "end_time": "2021-03-26T06:35:14.850853",
     "exception": false,
     "start_time": "2021-03-26T06:35:14.783365",
     "status": "completed"
    },
    "tags": []
   },
   "source": [
    "Now let's first classify score ratings as Positive, Negative, and Neutral.\n",
    "\n",
    "> * If the **score rating => 4 or 5**,we are taking it as **Positive**.\n",
    ">\n",
    "> * If the **score rating => 3**,we are taking it as **Neutral**.\n",
    ">\n",
    "> * And if the **score rating => 1 or 2**,we are taking it as **Negative**.\n",
    "\n",
    "Then we are saving the result in a column named **Overall_Sentiment**. This would tell us the sentiment of the review based on the star rating."
   ]
  },
  {
   "cell_type": "code",
   "execution_count": 28,
   "metadata": {
    "execution": {
     "iopub.execute_input": "2021-03-26T06:35:14.990060Z",
     "iopub.status.busy": "2021-03-26T06:35:14.989076Z",
     "iopub.status.idle": "2021-03-26T06:35:36.450455Z",
     "shell.execute_reply": "2021-03-26T06:35:36.450979Z"
    },
    "papermill": {
     "duration": 21.535047,
     "end_time": "2021-03-26T06:35:36.451198",
     "exception": false,
     "start_time": "2021-03-26T06:35:14.916151",
     "status": "completed"
    },
    "tags": []
   },
   "outputs": [
    {
     "data": {
      "text/html": [
       "<div>\n",
       "<style scoped>\n",
       "    .dataframe tbody tr th:only-of-type {\n",
       "        vertical-align: middle;\n",
       "    }\n",
       "\n",
       "    .dataframe tbody tr th {\n",
       "        vertical-align: top;\n",
       "    }\n",
       "\n",
       "    .dataframe thead th {\n",
       "        text-align: right;\n",
       "    }\n",
       "</style>\n",
       "<table border=\"1\" class=\"dataframe\">\n",
       "  <thead>\n",
       "    <tr style=\"text-align: right;\">\n",
       "      <th></th>\n",
       "      <th>overall</th>\n",
       "      <th>reviewText</th>\n",
       "      <th>Overall_Sentiment</th>\n",
       "    </tr>\n",
       "  </thead>\n",
       "  <tbody>\n",
       "    <tr>\n",
       "      <th>0</th>\n",
       "      <td>5</td>\n",
       "      <td>we got this gps for my husband who is an otr o...</td>\n",
       "      <td>Positive</td>\n",
       "    </tr>\n",
       "    <tr>\n",
       "      <th>1</th>\n",
       "      <td>1</td>\n",
       "      <td>im a professional otr truck driver and i bough...</td>\n",
       "      <td>Negative</td>\n",
       "    </tr>\n",
       "    <tr>\n",
       "      <th>2</th>\n",
       "      <td>3</td>\n",
       "      <td>well what can i say ive had this unit in my tr...</td>\n",
       "      <td>Neutral</td>\n",
       "    </tr>\n",
       "    <tr>\n",
       "      <th>3</th>\n",
       "      <td>2</td>\n",
       "      <td>not going to write a long review even thought ...</td>\n",
       "      <td>Negative</td>\n",
       "    </tr>\n",
       "    <tr>\n",
       "      <th>4</th>\n",
       "      <td>1</td>\n",
       "      <td>ive had mine for a year and here what we got i...</td>\n",
       "      <td>Negative</td>\n",
       "    </tr>\n",
       "    <tr>\n",
       "      <th>...</th>\n",
       "      <td>...</td>\n",
       "      <td>...</td>\n",
       "      <td>...</td>\n",
       "    </tr>\n",
       "    <tr>\n",
       "      <th>3543</th>\n",
       "      <td>2</td>\n",
       "      <td>work fine a a basic set of earphone however th...</td>\n",
       "      <td>Negative</td>\n",
       "    </tr>\n",
       "    <tr>\n",
       "      <th>3544</th>\n",
       "      <td>5</td>\n",
       "      <td>if you want to go jogging or work out while li...</td>\n",
       "      <td>Positive</td>\n",
       "    </tr>\n",
       "    <tr>\n",
       "      <th>3545</th>\n",
       "      <td>2</td>\n",
       "      <td>i found these to be a waste of money and time ...</td>\n",
       "      <td>Negative</td>\n",
       "    </tr>\n",
       "    <tr>\n",
       "      <th>3546</th>\n",
       "      <td>1</td>\n",
       "      <td>i had a older version of this headphone that h...</td>\n",
       "      <td>Negative</td>\n",
       "    </tr>\n",
       "    <tr>\n",
       "      <th>3547</th>\n",
       "      <td>1</td>\n",
       "      <td>no matter what sale or deal there is or how ch...</td>\n",
       "      <td>Negative</td>\n",
       "    </tr>\n",
       "  </tbody>\n",
       "</table>\n",
       "<p>3545 rows × 3 columns</p>\n",
       "</div>"
      ],
      "text/plain": [
       "      overall                                         reviewText  \\\n",
       "0           5  we got this gps for my husband who is an otr o...   \n",
       "1           1  im a professional otr truck driver and i bough...   \n",
       "2           3  well what can i say ive had this unit in my tr...   \n",
       "3           2  not going to write a long review even thought ...   \n",
       "4           1  ive had mine for a year and here what we got i...   \n",
       "...       ...                                                ...   \n",
       "3543        2  work fine a a basic set of earphone however th...   \n",
       "3544        5  if you want to go jogging or work out while li...   \n",
       "3545        2  i found these to be a waste of money and time ...   \n",
       "3546        1  i had a older version of this headphone that h...   \n",
       "3547        1  no matter what sale or deal there is or how ch...   \n",
       "\n",
       "     Overall_Sentiment  \n",
       "0             Positive  \n",
       "1             Negative  \n",
       "2              Neutral  \n",
       "3             Negative  \n",
       "4             Negative  \n",
       "...                ...  \n",
       "3543          Negative  \n",
       "3544          Positive  \n",
       "3545          Negative  \n",
       "3546          Negative  \n",
       "3547          Negative  \n",
       "\n",
       "[3545 rows x 3 columns]"
      ]
     },
     "execution_count": 28,
     "metadata": {},
     "output_type": "execute_result"
    }
   ],
   "source": [
    "def score_classify(x):\n",
    "    if x>3:\n",
    "        return 'Positive'\n",
    "    elif x<3:\n",
    "        return 'Negative'\n",
    "    else:\n",
    "        return 'Neutral'\n",
    "df2['Overall_Sentiment']=df2.apply(lambda x: score_classify(x['overall']),axis=1)\n",
    "df2"
   ]
  },
  {
   "cell_type": "markdown",
   "metadata": {
    "papermill": {
     "duration": 0.070312,
     "end_time": "2021-03-26T06:35:36.588837",
     "exception": false,
     "start_time": "2021-03-26T06:35:36.518525",
     "status": "completed"
    },
    "tags": []
   },
   "source": [
    "Now, let's find out how the number of Positive, Negative, and Neutral reviews."
   ]
  },
  {
   "cell_type": "code",
   "execution_count": 29,
   "metadata": {
    "execution": {
     "iopub.execute_input": "2021-03-26T06:35:37.116522Z",
     "iopub.status.busy": "2021-03-26T06:35:37.115694Z",
     "iopub.status.idle": "2021-03-26T06:35:37.128264Z",
     "shell.execute_reply": "2021-03-26T06:35:37.127463Z"
    },
    "papermill": {
     "duration": 0.468663,
     "end_time": "2021-03-26T06:35:37.128467",
     "exception": false,
     "start_time": "2021-03-26T06:35:36.659804",
     "status": "completed"
    },
    "tags": []
   },
   "outputs": [
    {
     "data": {
      "text/plain": [
       "Positive    2835\n",
       "Negative     424\n",
       "Neutral      286\n",
       "Name: Overall_Sentiment, dtype: int64"
      ]
     },
     "execution_count": 29,
     "metadata": {},
     "output_type": "execute_result"
    }
   ],
   "source": [
    "df2.Overall_Sentiment.value_counts()"
   ]
  },
  {
   "cell_type": "markdown",
   "metadata": {
    "papermill": {
     "duration": 0.06981,
     "end_time": "2021-03-26T06:35:37.265535",
     "exception": false,
     "start_time": "2021-03-26T06:35:37.195725",
     "status": "completed"
    },
    "tags": []
   },
   "source": [
    "Here we can see that 1354351 reviews are Positive,190693 are Negative while 142125 are Neutral.\n",
    "\n",
    "But it may also be possible that some data may be missing or null. \n",
    "\n",
    "So let's drop null values if there are any. Then recheck the number of reviews."
   ]
  },
  {
   "cell_type": "code",
   "execution_count": 30,
   "metadata": {
    "execution": {
     "iopub.execute_input": "2021-03-26T06:35:37.698234Z",
     "iopub.status.busy": "2021-03-26T06:35:37.697204Z",
     "iopub.status.idle": "2021-03-26T06:35:38.540163Z",
     "shell.execute_reply": "2021-03-26T06:35:38.539370Z"
    },
    "papermill": {
     "duration": 1.204952,
     "end_time": "2021-03-26T06:35:38.540336",
     "exception": false,
     "start_time": "2021-03-26T06:35:37.335384",
     "status": "completed"
    },
    "tags": []
   },
   "outputs": [
    {
     "data": {
      "text/plain": [
       "Positive    2835\n",
       "Negative     424\n",
       "Neutral      286\n",
       "Name: Overall_Sentiment, dtype: int64"
      ]
     },
     "execution_count": 30,
     "metadata": {},
     "output_type": "execute_result"
    }
   ],
   "source": [
    "df2.dropna(\n",
    "    axis=0,\n",
    "    how='any',\n",
    "    thresh=None,\n",
    "    subset=None,\n",
    "    inplace=True\n",
    ")\n",
    "df2.Overall_Sentiment.value_counts()"
   ]
  },
  {
   "cell_type": "markdown",
   "metadata": {
    "papermill": {
     "duration": 0.069622,
     "end_time": "2021-03-26T06:35:38.682917",
     "exception": false,
     "start_time": "2021-03-26T06:35:38.613295",
     "status": "completed"
    },
    "tags": []
   },
   "source": [
    "So we can see that there are no missing or null values.\n",
    "\n",
    "Let's now go for sentiment analysis of review text."
   ]
  },
  {
   "cell_type": "markdown",
   "metadata": {
    "papermill": {
     "duration": 0.071341,
     "end_time": "2021-03-26T06:35:38.823386",
     "exception": false,
     "start_time": "2021-03-26T06:35:38.752045",
     "status": "completed"
    },
    "tags": []
   },
   "source": [
    "Sentiment analysis is a process in which we computationally analyze and identify opinions and judgments of a customer from a piece of text. You can understand if a piece of text is positive, negative, or neutral, based on their sentiment analysis.\n",
    "\n",
    "There are various types of sentiment analysis, but we are using aspect-based sentiment analysis here.\n",
    "\n",
    "Aspect-based sentiment analysis is generally for one or more aspects of a service or product. \n",
    "\n",
    "For example, if a company that sells mobile phones uses this type of sentiment analysis, it could be for one aspect of mobile phones – like battery life, processor, USF storage, etc. \n",
    "\n",
    "So they can understand how customers feel about specific attributes of the product. \n",
    "\n",
    "For more information, see [here](https://www.upgrad.com/blog/types-of-sentiment-analysis/)."
   ]
  },
  {
   "cell_type": "markdown",
   "metadata": {
    "papermill": {
     "duration": 0.084963,
     "end_time": "2021-03-26T06:35:38.977109",
     "exception": false,
     "start_time": "2021-03-26T06:35:38.892146",
     "status": "completed"
    },
    "tags": []
   },
   "source": [
    "We can implement aspect-based sentiment analysis in different ways. \n",
    "\n",
    "The most famous is Sentiment Intensity Analyzer(commonly known as SIA) from vaderSentiment. \n",
    "\n",
    "But I found that sentiment from Textblob gives better results than SIA here. So we have used the sentiment from Textblob.\n",
    "\n",
    "For more information see [here](https://textblob.readthedocs.io/en/dev/quickstart.html#sentiment-analysis)."
   ]
  },
  {
   "cell_type": "code",
   "execution_count": 31,
   "metadata": {
    "execution": {
     "iopub.execute_input": "2021-03-26T06:35:39.222177Z",
     "iopub.status.busy": "2021-03-26T06:35:39.220865Z",
     "iopub.status.idle": "2021-03-26T07:03:30.110435Z",
     "shell.execute_reply": "2021-03-26T07:03:30.111302Z"
    },
    "papermill": {
     "duration": 1671.041805,
     "end_time": "2021-03-26T07:03:30.112113",
     "exception": false,
     "start_time": "2021-03-26T06:35:39.070308",
     "status": "completed"
    },
    "tags": []
   },
   "outputs": [
    {
     "data": {
      "text/html": [
       "<div>\n",
       "<style scoped>\n",
       "    .dataframe tbody tr th:only-of-type {\n",
       "        vertical-align: middle;\n",
       "    }\n",
       "\n",
       "    .dataframe tbody tr th {\n",
       "        vertical-align: top;\n",
       "    }\n",
       "\n",
       "    .dataframe thead th {\n",
       "        text-align: right;\n",
       "    }\n",
       "</style>\n",
       "<table border=\"1\" class=\"dataframe\">\n",
       "  <thead>\n",
       "    <tr style=\"text-align: right;\">\n",
       "      <th></th>\n",
       "      <th>overall</th>\n",
       "      <th>reviewText</th>\n",
       "      <th>Overall_Sentiment</th>\n",
       "      <th>Review_Sentiment</th>\n",
       "      <th>sentiment score</th>\n",
       "    </tr>\n",
       "  </thead>\n",
       "  <tbody>\n",
       "    <tr>\n",
       "      <th>0</th>\n",
       "      <td>5</td>\n",
       "      <td>we got this gps for my husband who is an otr o...</td>\n",
       "      <td>Positive</td>\n",
       "      <td>Positive</td>\n",
       "      <td>0.250000</td>\n",
       "    </tr>\n",
       "    <tr>\n",
       "      <th>1</th>\n",
       "      <td>1</td>\n",
       "      <td>im a professional otr truck driver and i bough...</td>\n",
       "      <td>Negative</td>\n",
       "      <td>Positive</td>\n",
       "      <td>0.062441</td>\n",
       "    </tr>\n",
       "    <tr>\n",
       "      <th>2</th>\n",
       "      <td>3</td>\n",
       "      <td>well what can i say ive had this unit in my tr...</td>\n",
       "      <td>Neutral</td>\n",
       "      <td>Positive</td>\n",
       "      <td>0.086977</td>\n",
       "    </tr>\n",
       "    <tr>\n",
       "      <th>3</th>\n",
       "      <td>2</td>\n",
       "      <td>not going to write a long review even thought ...</td>\n",
       "      <td>Negative</td>\n",
       "      <td>Positive</td>\n",
       "      <td>0.047284</td>\n",
       "    </tr>\n",
       "    <tr>\n",
       "      <th>4</th>\n",
       "      <td>1</td>\n",
       "      <td>ive had mine for a year and here what we got i...</td>\n",
       "      <td>Negative</td>\n",
       "      <td>Positive</td>\n",
       "      <td>0.002778</td>\n",
       "    </tr>\n",
       "    <tr>\n",
       "      <th>5</th>\n",
       "      <td>5</td>\n",
       "      <td>i am using this with a nook hd it work a descr...</td>\n",
       "      <td>Positive</td>\n",
       "      <td>Positive</td>\n",
       "      <td>1.000000</td>\n",
       "    </tr>\n",
       "    <tr>\n",
       "      <th>6</th>\n",
       "      <td>2</td>\n",
       "      <td>the cable is very wobbly and sometimes disconn...</td>\n",
       "      <td>Negative</td>\n",
       "      <td>Negative</td>\n",
       "      <td>-0.100000</td>\n",
       "    </tr>\n",
       "    <tr>\n",
       "      <th>7</th>\n",
       "      <td>5</td>\n",
       "      <td>this adaptor is real easy to setup and use rig...</td>\n",
       "      <td>Positive</td>\n",
       "      <td>Positive</td>\n",
       "      <td>0.274439</td>\n",
       "    </tr>\n",
       "    <tr>\n",
       "      <th>8</th>\n",
       "      <td>4</td>\n",
       "      <td>this adapter easily connects my nook hd to my ...</td>\n",
       "      <td>Positive</td>\n",
       "      <td>Positive</td>\n",
       "      <td>0.297718</td>\n",
       "    </tr>\n",
       "    <tr>\n",
       "      <th>9</th>\n",
       "      <td>5</td>\n",
       "      <td>this product really work great but i found the...</td>\n",
       "      <td>Positive</td>\n",
       "      <td>Positive</td>\n",
       "      <td>0.212487</td>\n",
       "    </tr>\n",
       "  </tbody>\n",
       "</table>\n",
       "</div>"
      ],
      "text/plain": [
       "   overall                                         reviewText  \\\n",
       "0        5  we got this gps for my husband who is an otr o...   \n",
       "1        1  im a professional otr truck driver and i bough...   \n",
       "2        3  well what can i say ive had this unit in my tr...   \n",
       "3        2  not going to write a long review even thought ...   \n",
       "4        1  ive had mine for a year and here what we got i...   \n",
       "5        5  i am using this with a nook hd it work a descr...   \n",
       "6        2  the cable is very wobbly and sometimes disconn...   \n",
       "7        5  this adaptor is real easy to setup and use rig...   \n",
       "8        4  this adapter easily connects my nook hd to my ...   \n",
       "9        5  this product really work great but i found the...   \n",
       "\n",
       "  Overall_Sentiment Review_Sentiment  sentiment score  \n",
       "0          Positive         Positive         0.250000  \n",
       "1          Negative         Positive         0.062441  \n",
       "2           Neutral         Positive         0.086977  \n",
       "3          Negative         Positive         0.047284  \n",
       "4          Negative         Positive         0.002778  \n",
       "5          Positive         Positive         1.000000  \n",
       "6          Negative         Negative        -0.100000  \n",
       "7          Positive         Positive         0.274439  \n",
       "8          Positive         Positive         0.297718  \n",
       "9          Positive         Positive         0.212487  "
      ]
     },
     "metadata": {},
     "output_type": "display_data"
    }
   ],
   "source": [
    "from textblob import TextBlob\n",
    "\n",
    "sentiment_score_list = []\n",
    "sentiment_label_list = []\n",
    "\n",
    "for i in df2['reviewText'].values.tolist():\n",
    "    sentiment_text=TextBlob(i)\n",
    "    sentiment_score = sentiment_text.sentiment.polarity\n",
    "    #print(sentiment_score)\n",
    "\n",
    "    if sentiment_score > 0:\n",
    "        sentiment_score_list.append(sentiment_score)\n",
    "        sentiment_label_list.append('Positive')\n",
    "    elif sentiment_score < 0:\n",
    "        sentiment_score_list.append(sentiment_score)\n",
    "        sentiment_label_list.append('Negative')\n",
    "    else:\n",
    "        sentiment_score_list.append(sentiment_score)\n",
    "        sentiment_label_list.append('Neutral')\n",
    "    \n",
    "df2['Review_Sentiment'] = sentiment_label_list\n",
    "df2['sentiment score'] = sentiment_score_list\n",
    "\n",
    "display(df2.head(10))"
   ]
  },
  {
   "cell_type": "markdown",
   "metadata": {
    "papermill": {
     "duration": 0.071076,
     "end_time": "2021-03-26T07:03:30.258447",
     "exception": false,
     "start_time": "2021-03-26T07:03:30.187371",
     "status": "completed"
    },
    "tags": []
   },
   "source": [
    "We can see that some reviews are of Neutral, sentiment based on star rating bit are Positive, based on the sentiment of review text.\n",
    "\n",
    "Such reviews may be harmful to our model as they could be classified wrongly.\n",
    "\n",
    "So we are removing all Neutral reviews."
   ]
  },
  {
   "cell_type": "code",
   "execution_count": 32,
   "metadata": {
    "execution": {
     "iopub.execute_input": "2021-03-26T07:03:30.656642Z",
     "iopub.status.busy": "2021-03-26T07:03:30.407778Z",
     "iopub.status.idle": "2021-03-26T07:03:31.393499Z",
     "shell.execute_reply": "2021-03-26T07:03:31.392699Z"
    },
    "papermill": {
     "duration": 1.06475,
     "end_time": "2021-03-26T07:03:31.393679",
     "exception": false,
     "start_time": "2021-03-26T07:03:30.328929",
     "status": "completed"
    },
    "tags": []
   },
   "outputs": [],
   "source": [
    "before=df2.shape[0]\n",
    "df2 = df2[df2.Overall_Sentiment != 'Neutral']\n",
    "df2 = df2[df2.Review_Sentiment != 'Neutral']\n",
    "df2.head(10)\n",
    "after=df2.shape[0]\n",
    "#EDA for finding how many neutral labels have been removed"
   ]
  },
  {
   "cell_type": "markdown",
   "metadata": {
    "papermill": {
     "duration": 0.073128,
     "end_time": "2021-03-26T07:03:31.542949",
     "exception": false,
     "start_time": "2021-03-26T07:03:31.469821",
     "status": "completed"
    },
    "tags": []
   },
   "source": [
    "Now let's find out how many Neutral reviews we have removed."
   ]
  },
  {
   "cell_type": "code",
   "execution_count": 33,
   "metadata": {
    "execution": {
     "iopub.execute_input": "2021-03-26T07:03:31.702894Z",
     "iopub.status.busy": "2021-03-26T07:03:31.700834Z",
     "iopub.status.idle": "2021-03-26T07:03:31.709816Z",
     "shell.execute_reply": "2021-03-26T07:03:31.707399Z"
    },
    "papermill": {
     "duration": 0.092989,
     "end_time": "2021-03-26T07:03:31.710300",
     "exception": false,
     "start_time": "2021-03-26T07:03:31.617311",
     "status": "completed"
    },
    "tags": []
   },
   "outputs": [
    {
     "name": "stdout",
     "output_type": "stream",
     "text": [
      "The number of neutral labels have been removed : 391\n"
     ]
    }
   ],
   "source": [
    "print(\"The number of neutral labels have been removed : {}\".format(before-after))"
   ]
  },
  {
   "cell_type": "markdown",
   "metadata": {
    "papermill": {
     "duration": 0.070383,
     "end_time": "2021-03-26T07:03:31.852362",
     "exception": false,
     "start_time": "2021-03-26T07:03:31.781979",
     "status": "completed"
    },
    "tags": []
   },
   "source": [
    "Wow! That is a lot of reviews.\n",
    "\n",
    "Now, let's classify reviews as true or false.\n",
    "\n",
    "The true review would one in which the sentiment of star rating matches the sentiment of review text.\n",
    "\n",
    " If it does not match, then we could say that review is false."
   ]
  },
  {
   "cell_type": "code",
   "execution_count": 34,
   "metadata": {
    "execution": {
     "iopub.execute_input": "2021-03-26T07:03:32.307741Z",
     "iopub.status.busy": "2021-03-26T07:03:32.305849Z",
     "iopub.status.idle": "2021-03-26T07:03:32.332650Z",
     "shell.execute_reply": "2021-03-26T07:03:32.333167Z"
    },
    "papermill": {
     "duration": 0.406297,
     "end_time": "2021-03-26T07:03:32.333436",
     "exception": false,
     "start_time": "2021-03-26T07:03:31.927139",
     "status": "completed"
    },
    "tags": []
   },
   "outputs": [
    {
     "data": {
      "text/html": [
       "<div>\n",
       "<style scoped>\n",
       "    .dataframe tbody tr th:only-of-type {\n",
       "        vertical-align: middle;\n",
       "    }\n",
       "\n",
       "    .dataframe tbody tr th {\n",
       "        vertical-align: top;\n",
       "    }\n",
       "\n",
       "    .dataframe thead th {\n",
       "        text-align: right;\n",
       "    }\n",
       "</style>\n",
       "<table border=\"1\" class=\"dataframe\">\n",
       "  <thead>\n",
       "    <tr style=\"text-align: right;\">\n",
       "      <th></th>\n",
       "      <th>overall</th>\n",
       "      <th>reviewText</th>\n",
       "      <th>Overall_Sentiment</th>\n",
       "      <th>Review_Sentiment</th>\n",
       "      <th>sentiment score</th>\n",
       "      <th>result</th>\n",
       "    </tr>\n",
       "  </thead>\n",
       "  <tbody>\n",
       "    <tr>\n",
       "      <th>0</th>\n",
       "      <td>5</td>\n",
       "      <td>we got this gps for my husband who is an otr o...</td>\n",
       "      <td>Positive</td>\n",
       "      <td>Positive</td>\n",
       "      <td>0.250000</td>\n",
       "      <td>True</td>\n",
       "    </tr>\n",
       "    <tr>\n",
       "      <th>1</th>\n",
       "      <td>1</td>\n",
       "      <td>im a professional otr truck driver and i bough...</td>\n",
       "      <td>Negative</td>\n",
       "      <td>Positive</td>\n",
       "      <td>0.062441</td>\n",
       "      <td>False</td>\n",
       "    </tr>\n",
       "    <tr>\n",
       "      <th>3</th>\n",
       "      <td>2</td>\n",
       "      <td>not going to write a long review even thought ...</td>\n",
       "      <td>Negative</td>\n",
       "      <td>Positive</td>\n",
       "      <td>0.047284</td>\n",
       "      <td>False</td>\n",
       "    </tr>\n",
       "    <tr>\n",
       "      <th>4</th>\n",
       "      <td>1</td>\n",
       "      <td>ive had mine for a year and here what we got i...</td>\n",
       "      <td>Negative</td>\n",
       "      <td>Positive</td>\n",
       "      <td>0.002778</td>\n",
       "      <td>False</td>\n",
       "    </tr>\n",
       "    <tr>\n",
       "      <th>5</th>\n",
       "      <td>5</td>\n",
       "      <td>i am using this with a nook hd it work a descr...</td>\n",
       "      <td>Positive</td>\n",
       "      <td>Positive</td>\n",
       "      <td>1.000000</td>\n",
       "      <td>True</td>\n",
       "    </tr>\n",
       "  </tbody>\n",
       "</table>\n",
       "</div>"
      ],
      "text/plain": [
       "   overall                                         reviewText  \\\n",
       "0        5  we got this gps for my husband who is an otr o...   \n",
       "1        1  im a professional otr truck driver and i bough...   \n",
       "3        2  not going to write a long review even thought ...   \n",
       "4        1  ive had mine for a year and here what we got i...   \n",
       "5        5  i am using this with a nook hd it work a descr...   \n",
       "\n",
       "  Overall_Sentiment Review_Sentiment  sentiment score  result  \n",
       "0          Positive         Positive         0.250000    True  \n",
       "1          Negative         Positive         0.062441   False  \n",
       "3          Negative         Positive         0.047284   False  \n",
       "4          Negative         Positive         0.002778   False  \n",
       "5          Positive         Positive         1.000000    True  "
      ]
     },
     "execution_count": 34,
     "metadata": {},
     "output_type": "execute_result"
    }
   ],
   "source": [
    "comparison_column = np.where(df2[\"Overall_Sentiment\"] == df2[\"Review_Sentiment\"], True, False)\n",
    "df2[\"result\"] = comparison_column\n",
    "df2.head()"
   ]
  },
  {
   "cell_type": "markdown",
   "metadata": {
    "papermill": {
     "duration": 0.073025,
     "end_time": "2021-03-26T07:03:32.484618",
     "exception": false,
     "start_time": "2021-03-26T07:03:32.411593",
     "status": "completed"
    },
    "tags": []
   },
   "source": [
    "Now, let's find the total number of all the fake reviews. \n",
    "\n",
    "And also see some as an example."
   ]
  },
  {
   "cell_type": "code",
   "execution_count": 35,
   "metadata": {
    "execution": {
     "iopub.execute_input": "2021-03-26T07:03:32.650056Z",
     "iopub.status.busy": "2021-03-26T07:03:32.649189Z",
     "iopub.status.idle": "2021-03-26T07:03:32.704323Z",
     "shell.execute_reply": "2021-03-26T07:03:32.703039Z"
    },
    "papermill": {
     "duration": 0.139905,
     "end_time": "2021-03-26T07:03:32.704601",
     "exception": false,
     "start_time": "2021-03-26T07:03:32.564696",
     "status": "completed"
    },
    "tags": []
   },
   "outputs": [
    {
     "name": "stdout",
     "output_type": "stream",
     "text": [
      "(459, 6)\n"
     ]
    },
    {
     "data": {
      "text/html": [
       "<div>\n",
       "<style scoped>\n",
       "    .dataframe tbody tr th:only-of-type {\n",
       "        vertical-align: middle;\n",
       "    }\n",
       "\n",
       "    .dataframe tbody tr th {\n",
       "        vertical-align: top;\n",
       "    }\n",
       "\n",
       "    .dataframe thead th {\n",
       "        text-align: right;\n",
       "    }\n",
       "</style>\n",
       "<table border=\"1\" class=\"dataframe\">\n",
       "  <thead>\n",
       "    <tr style=\"text-align: right;\">\n",
       "      <th></th>\n",
       "      <th>overall</th>\n",
       "      <th>reviewText</th>\n",
       "      <th>Overall_Sentiment</th>\n",
       "      <th>Review_Sentiment</th>\n",
       "      <th>sentiment score</th>\n",
       "      <th>result</th>\n",
       "    </tr>\n",
       "  </thead>\n",
       "  <tbody>\n",
       "    <tr>\n",
       "      <th>1</th>\n",
       "      <td>1</td>\n",
       "      <td>im a professional otr truck driver and i bough...</td>\n",
       "      <td>Negative</td>\n",
       "      <td>Positive</td>\n",
       "      <td>0.062441</td>\n",
       "      <td>False</td>\n",
       "    </tr>\n",
       "    <tr>\n",
       "      <th>3</th>\n",
       "      <td>2</td>\n",
       "      <td>not going to write a long review even thought ...</td>\n",
       "      <td>Negative</td>\n",
       "      <td>Positive</td>\n",
       "      <td>0.047284</td>\n",
       "      <td>False</td>\n",
       "    </tr>\n",
       "    <tr>\n",
       "      <th>4</th>\n",
       "      <td>1</td>\n",
       "      <td>ive had mine for a year and here what we got i...</td>\n",
       "      <td>Negative</td>\n",
       "      <td>Positive</td>\n",
       "      <td>0.002778</td>\n",
       "      <td>False</td>\n",
       "    </tr>\n",
       "    <tr>\n",
       "      <th>22</th>\n",
       "      <td>4</td>\n",
       "      <td>this wall mount doe everything it supposed to ...</td>\n",
       "      <td>Positive</td>\n",
       "      <td>Negative</td>\n",
       "      <td>-0.092143</td>\n",
       "      <td>False</td>\n",
       "    </tr>\n",
       "    <tr>\n",
       "      <th>36</th>\n",
       "      <td>5</td>\n",
       "      <td>didnt think it would work a well a it hasbecau...</td>\n",
       "      <td>Positive</td>\n",
       "      <td>Negative</td>\n",
       "      <td>-0.063889</td>\n",
       "      <td>False</td>\n",
       "    </tr>\n",
       "  </tbody>\n",
       "</table>\n",
       "</div>"
      ],
      "text/plain": [
       "    overall                                         reviewText  \\\n",
       "1         1  im a professional otr truck driver and i bough...   \n",
       "3         2  not going to write a long review even thought ...   \n",
       "4         1  ive had mine for a year and here what we got i...   \n",
       "22        4  this wall mount doe everything it supposed to ...   \n",
       "36        5  didnt think it would work a well a it hasbecau...   \n",
       "\n",
       "   Overall_Sentiment Review_Sentiment  sentiment score  result  \n",
       "1           Negative         Positive         0.062441   False  \n",
       "3           Negative         Positive         0.047284   False  \n",
       "4           Negative         Positive         0.002778   False  \n",
       "22          Positive         Negative        -0.092143   False  \n",
       "36          Positive         Negative        -0.063889   False  "
      ]
     },
     "execution_count": 35,
     "metadata": {},
     "output_type": "execute_result"
    }
   ],
   "source": [
    "df2 = df2[df2.result != True]\n",
    "print(df2.shape)\n",
    "df2.head()"
   ]
  },
  {
   "cell_type": "markdown",
   "metadata": {
    "papermill": {
     "duration": 0.077652,
     "end_time": "2021-03-26T07:03:32.857987",
     "exception": false,
     "start_time": "2021-03-26T07:03:32.780335",
     "status": "completed"
    },
    "tags": []
   },
   "source": [
    "Finally, we found all the reviews that are not genuine and that is a lot of reviews."
   ]
  },
  {
   "cell_type": "markdown",
   "metadata": {
    "papermill": {
     "duration": 0.077075,
     "end_time": "2021-03-26T07:03:33.011191",
     "exception": false,
     "start_time": "2021-03-26T07:03:32.934116",
     "status": "completed"
    },
    "tags": []
   },
   "source": [
    "Conclusion:\n",
    "--\n",
    "The importance of this problem statement is that we can easily find out if the given review is genuine or not. \n",
    "Here, we used review text and star rating from Amazon's Electronic Reviews that was given to the product by the reviewer. We used these features to classify if the given review is truly genuine or not."
   ]
  },
  {
   "cell_type": "markdown",
   "metadata": {
    "papermill": {
     "duration": 0.079502,
     "end_time": "2021-03-26T07:03:33.172820",
     "exception": false,
     "start_time": "2021-03-26T07:03:33.093318",
     "status": "completed"
    },
    "tags": []
   },
   "source": [
    "# Conclusion of Project"
   ]
  },
  {
   "cell_type": "markdown",
   "metadata": {
    "papermill": {
     "duration": 0.076687,
     "end_time": "2021-03-26T07:03:33.325934",
     "exception": false,
     "start_time": "2021-03-26T07:03:33.249247",
     "status": "completed"
    },
    "tags": []
   },
   "source": [
    "In this project, we first predicted the helpfulness of review. \n",
    "In the second part, we found out about the genuinity of reviews.\n",
    "\n",
    "I would like to thank [Prof Mahendra Patil](https://www.linkedin.com/in/mahendra-patil-66b725129/) for guiding us in this project. \n",
    "\n",
    "I would also like to thank my friends and project-partners [Nachiketa Patil](https://www.linkedin.com/in/nachiketa-p-552525110/) and Sayyam Jain for helping me with this project."
   ]
  },
  {
   "cell_type": "code",
   "execution_count": null,
   "metadata": {},
   "outputs": [],
   "source": []
  }
 ],
 "metadata": {
  "kernelspec": {
   "display_name": "Python 3",
   "language": "python",
   "name": "python3"
  },
  "language_info": {
   "codemirror_mode": {
    "name": "ipython",
    "version": 3
   },
   "file_extension": ".py",
   "mimetype": "text/x-python",
   "name": "python",
   "nbconvert_exporter": "python",
   "pygments_lexer": "ipython3",
   "version": "3.9.4"
  },
  "papermill": {
   "default_parameters": {},
   "duration": 5065.022717,
   "end_time": "2021-03-26T07:03:38.623664",
   "environment_variables": {},
   "exception": null,
   "input_path": "__notebook__.ipynb",
   "output_path": "__notebook__.ipynb",
   "parameters": {},
   "start_time": "2021-03-26T05:39:13.600947",
   "version": "2.2.2"
  }
 },
 "nbformat": 4,
 "nbformat_minor": 4
}
